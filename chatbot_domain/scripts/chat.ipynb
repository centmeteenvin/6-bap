{
 "cells": [
  {
   "cell_type": "code",
   "execution_count": 1,
   "id": "bdc34acb-bcf0-4c2f-929b-651a109d7923",
   "metadata": {},
   "outputs": [
    {
     "name": "stdout",
     "output_type": "stream",
     "text": [
      "c:\\Users\\vince\\Documents\\school\\Unief-6\\6-bap\n"
     ]
    },
    {
     "data": {
      "text/plain": [
       "'c:\\\\Users\\\\vince\\\\Documents\\\\school\\\\Unief-6\\\\6-bap'"
      ]
     },
     "execution_count": 1,
     "metadata": {},
     "output_type": "execute_result"
    }
   ],
   "source": [
    "%cd ../../\n",
    "%pwd"
   ]
  },
  {
   "cell_type": "code",
   "execution_count": 2,
   "id": "9b329345-735b-4b2f-8009-325317ea28ae",
   "metadata": {},
   "outputs": [
    {
     "name": "stdout",
     "output_type": "stream",
     "text": [
      "c:\\Users\\vince\\Documents\\school\\Unief-6\\6-bap\n"
     ]
    }
   ],
   "source": [
    "from chatbot_domain.benchmark import *\n",
    "from chatbot_domain.chatbot import *\n",
    "from chatbot_domain.rag import *\n",
    "from chatbot_domain.transformer import ModelBuilder\n",
    "# from chatbot_domain.rag import VectorRetriever, FacebookDPR\n",
    "from chatbot_domain import logger\n",
    "from chatbot_domain.data import loadDataSetFromDisk\n",
    "\n",
    "from os import getcwd\n",
    "print(getcwd())\n",
    "logger.setLevel('DEBUG')\n",
    "# dpr = FacebookDPR()\n",
    "# dataset = loadDataSetFromDisk('./ragData.set')\n",
    "# retriever = VectorRetriever(dataset=dataset, dpr=dpr, datasetLocation='./ragData.Set')\n",
    "# chatbot = ChatBotModifier(OpenAIChatBot()).rag(retriever, 2048).domainGuard(DIPDomainGuard).build()\n",
    "chatbot = ChatBotBuilder.model(\n",
    "    ModelBuilder().deviceMap(\"auto\").modelName('meta-llama/Meta-Llama-3-70B-Instruct').shouldQuantize(True).build(adapted=False)\n",
    "    ).build()\n",
    "# chatbot = ChatBotBuilder.anthropic().benchmarkGuard().domainGuard(DIPDomainGuard).rag(\n",
    "#     RAGBuilder.fromDatasetDisk('ragData.set').vectorRetriever(FacebookDPR()), 2048\n",
    "#     ).build()\n",
    "# chatbot = ChatBotBuilder.openAI().benchmarkGuard().build()\n"
   ]
  },
  {
   "cell_type": "code",
   "execution_count": 3,
   "id": "ba00a44c-7b84-4067-8119-2be874bd2384",
   "metadata": {},
   "outputs": [
    {
     "name": "stdout",
     "output_type": "stream",
     "text": [
      "\n",
      "--------------------------------------------------------------------------------\n",
      "claude-3-opus-20240229 : Hello! Greetings from the digital world! It's great to hear from someone in Belgium. How are you doing today?\n",
      "\n",
      "Belgium is a beautiful country known for its medieval cities, Renaissance architecture, delicious chocolate, waffles, and beer. It's also famous for being the headquarters of the European Union and NATO.\n",
      "\n",
      "I'd be happy to chat more about Belgium or any other topics you're interested in. Feel free to ask me anything!\n",
      "================================================================================\n",
      "    \n"
     ]
    }
   ],
   "source": [
    "chatbot.startConversation()"
   ]
  },
  {
   "cell_type": "code",
   "execution_count": 3,
   "id": "d3604d24",
   "metadata": {},
   "outputs": [
    {
     "name": "stderr",
     "output_type": "stream",
     "text": [
      "2024-04-30 16:40:29,013 - chatbot_domain - INFO - Question 1/4\n",
      "2024-04-30 16:40:35,981 - chatbot_domain - INFO - Question 2/4\n",
      "2024-04-30 16:40:42,643 - chatbot_domain - INFO - Question 3/4\n",
      "2024-04-30 16:40:49,101 - chatbot_domain - INFO - Question 4/4\n"
     ]
    },
    {
     "name": "stdout",
     "output_type": "stream",
     "text": [
      "\n",
      "    ================================================================================\n",
      "    # TEST RESULTS\n",
      "    overal Score: 2/4\n",
      "    Time to completion: 0:00:06.488144\n",
      "    ## breakdown:\n",
      "        literal:                 2/4\n",
      "        deduction:               0/0\n",
      "        wrong answers:           0/0\n",
      "        outside domain:          0/0        \n",
      "    ================================================================================\n",
      "    \n"
     ]
    }
   ],
   "source": [
    "parser = JsonQuestionParser('questions.json')\n",
    "question = parser.parse()[0:4]\n",
    "benchmarker = Benchmarker(NLPTestSubject(chatbot), question)\n",
    "logger.setLevel('INFO')\n",
    "print(benchmarker.evaluate(5))"
   ]
  }
 ],
 "metadata": {
  "kernelspec": {
   "display_name": "Python 3",
   "language": "python",
   "name": "python3"
  },
  "language_info": {
   "codemirror_mode": {
    "name": "ipython",
    "version": 3
   },
   "file_extension": ".py",
   "mimetype": "text/x-python",
   "name": "python",
   "nbconvert_exporter": "python",
   "pygments_lexer": "ipython3",
   "version": "3.11.4"
  }
 },
 "nbformat": 4,
 "nbformat_minor": 5
}
