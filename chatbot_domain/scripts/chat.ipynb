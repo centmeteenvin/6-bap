{
 "cells": [
  {
   "cell_type": "code",
   "execution_count": 1,
   "id": "bdc34acb-bcf0-4c2f-929b-651a109d7923",
   "metadata": {},
   "outputs": [
    {
     "name": "stdout",
     "output_type": "stream",
     "text": [
      "c:\\Users\\vince\\Documents\\school\\Unief-6\\6-bap\n"
     ]
    },
    {
     "data": {
      "text/plain": [
       "'c:\\\\Users\\\\vince\\\\Documents\\\\school\\\\Unief-6\\\\6-bap'"
      ]
     },
     "execution_count": 1,
     "metadata": {},
     "output_type": "execute_result"
    }
   ],
   "source": [
    "%cd ../../\n",
    "%pwd"
   ]
  },
  {
   "cell_type": "code",
   "execution_count": 2,
   "id": "9b329345-735b-4b2f-8009-325317ea28ae",
   "metadata": {},
   "outputs": [
    {
     "name": "stderr",
     "output_type": "stream",
     "text": [
      "2024-04-23 10:25:15,010 - chatbot_domain - INFO - loading model\n",
      "2024-04-23 10:25:15,010 - chatbot_domain - INFO - With Quantization\n"
     ]
    },
    {
     "name": "stdout",
     "output_type": "stream",
     "text": [
      "c:\\Users\\vince\\Documents\\school\\Unief-6\\6-bap\n"
     ]
    },
    {
     "data": {
      "application/vnd.jupyter.widget-view+json": {
       "model_id": "5eefbd34774d4e939b4476b4af551bb5",
       "version_major": 2,
       "version_minor": 0
      },
      "text/plain": [
       "adapter_config.json:   0%|          | 0.00/737 [00:00<?, ?B/s]"
      ]
     },
     "metadata": {},
     "output_type": "display_data"
    },
    {
     "data": {
      "application/vnd.jupyter.widget-view+json": {
       "model_id": "a3efc12a4c94465f8d33628625b3e2eb",
       "version_major": 2,
       "version_minor": 0
      },
      "text/plain": [
       "Loading checkpoint shards:   0%|          | 0/3 [00:00<?, ?it/s]"
      ]
     },
     "metadata": {},
     "output_type": "display_data"
    }
   ],
   "source": [
    "from chatbot_domain.chatbot import *\n",
    "from chatbot_domain.transformers import ModelBuilder\n",
    "from chatbot_domain.rag import VectorRetriever, FacebookDPR\n",
    "from chatbot_domain import logger\n",
    "from chatbot_domain.data import loadDataSetFromDisk\n",
    "\n",
    "from os import getcwd\n",
    "print(getcwd())\n",
    "logger.setLevel('DEBUG')\n",
    "# dpr = FacebookDPR()\n",
    "# dataset = loadDataSetFromDisk('./ragData.set')\n",
    "# retriever = VectorRetriever(dataset=dataset, dpr=dpr, datasetLocation='./ragData.Set')\n",
    "# chatbot = ChatBotModifier(OpenAIChatBot()).rag(retriever, 2048).domainGuard(DIPDomainGuard).build()\n",
    "chatbot = ChatBotBuilder.model(\n",
    "    ModelBuilder().deviceMap(\"auto\").modelName(\"vincentverbergt/autotrain-u5y0w-pa1vc\").shouldQuantize(True).build()\n",
    "    ).build()"
   ]
  },
  {
   "cell_type": "code",
   "execution_count": null,
   "id": "ba00a44c-7b84-4067-8119-2be874bd2384",
   "metadata": {},
   "outputs": [
    {
     "name": "stderr",
     "output_type": "stream",
     "text": [
      "2024-04-19 08:22:02,588 - chatbot_domain - DEBUG - The final prompt is What is Canny Edge detection?\n",
      "2024-04-19 08:22:02,588 - chatbot_domain - DEBUG - The added role was You are an assistant with expertise in the Image Processing domain. Your knowledge is given through the 'CONTEXT' section. You will no answer any questions that are not related to the image processing domain. If you are not confident in your answer you will tell us so. If the question is not related to the domain you will answer with 'This question is outside my domain of knowledge'\n",
      "2024-04-19 08:22:02,641 - chatbot_domain - DEBUG - Context concatenation loop completed without breaking, updating sampleGuess to 20\n",
      "2024-04-19 08:22:02,641 - chatbot_domain - DEBUG - rerunning context gathering with higher samples\n",
      "2024-04-19 08:22:02,699 - chatbot_domain - DEBUG - Context concatenation loop completed without breaking, updating sampleGuess to 40\n",
      "2024-04-19 08:22:02,699 - chatbot_domain - DEBUG - rerunning context gathering with higher samples\n",
      "2024-04-19 08:22:02,768 - chatbot_domain - DEBUG - Had to cutoff the context due to the context window limit. updating sampleGuess to 36\n",
      "2024-04-19 08:22:02,768 - chatbot_domain - DEBUG - The added context was \n",
      "Alternative definition An alternative definition of the opening will allow us to determine the opening in a single step process.\n",
      "8.4.4.2 Regional analysis  piecewise linear edge modeling We will restrict ourselves to one particular regional method i.e. creating a polylinear model based on an ordered set of edge pixels. A second prerequisite is that we need to know if the edge is a closed or an open path. If it is an open path we can apply the algorithm straight away. If it a closed path we need to split it into two open half paths.\n",
      "6.3. COLOR 119 .1 XYZ 380410430460 490 520 550 580 610640 Figure 6.12 The trichromatic normalization plane added to the monochromatic trajectory graph of Fig ure6.11 on page 117 perceptions as any of these points can be created by a weighted combination of pure monochromatic colors. This is based on the assumption that our vision is linear with respect to color perception. Points outside of the color gamut dont correspond to tristimulus signals that will ever occur in a normal brain.\n",
      "Alternative definition An alternative definition of the closing will allow us to determine the closing in a single step process.\n",
      "If we categorize electromagnetic waves in vacuum according to their frequency or wavelength we obtain the spectrum of Figure 6.1. Light is only a small subset of that entire spectrum. Visible light ranges from 400 nm violet to 700 nm red. The neighbors of that range ultra violet below 400 nm and infra red above 700 nm are often also considered to be non visible light. It might be obvious to you that we use colors to name the different wavelengths. However if youre stupefied by that fact bear a little longer it will become clear when discussing the human eye in section 6.2 on page 112 .\n",
      "By discretizing images we transform them to the domain where digital computers are at their best number crunching.\n",
      "4.3 Resampling 4.3.1 The need for resampling Given the fact that we have a sampled version of the image we want to consider one might wonder why do we need resampling?\n",
      "In that sense this is the first chapter in which we will perform image analysis rather than image processing . Remember the former means determining characteristics of an image while the latter means processing one image into another see section 3.3 on page 20 .\n",
      "Either the objective is to manipulate the incoming images to produce new images and display them to a user. In that case we proceed further to the right converting our digital images again to the analog domain using a DAC converter and an amplifier \u001cto drive the image actuatorthat displays the resulting image as seen by our eye. Very often these last parts starting from the DAC are integrated into a standalone image generation system e.g. an LCD monitor.\n",
      "7.3.5.4 Convex hull determination In many cases processing a full image with complex imaging algorithms requires too much computing power. Determination of a region of interest is required to allow focusing the image analysis onto a specific part of the image. Usually the shape of the hull around the object of interest should not be overly complex. Demanding it to be rectangular or diamondshaped might seem appropriate.\n",
      "The iterative application of the geodesic dilation converges to a stable image.2Applying it until convergence occurs is the socalled reconstruction by dilation and is denoted as   withsuch that1  .\n",
      "The geodesic operations will enable us to fully reconstruct parts of an image.\n",
      "The concepts of translation and reflection have been illustrated in Figure 7.4.\n",
      "We will treat three methods a local one a regional one and a global one. While the local method is not a very good one  we added it for completeness  the latter two are good performers.\n",
      "A.1 Experiments and outcomes The very basic concept of stochastic theory is the experiment . Consider it to be a particular action that one can take repeatedly  and leads to a specific outcome a result.\n",
      "The principle is to subtract an eroded version of the image from a dilated version of the image.\n",
      "A.2 Events An event is a subset of the outcome set. If the outcome of an experiment is part of this subset then we say theeventhappened . If it is not a part of the event subset then we say theeventdidnot happen.\n",
      "In the former case we samplea continuous image to obtain an image that consists of a grid of pixels. This a physical process. In the latter case we resample a discretedomain image to obtain a new image with a new grid of pixels. The need for this resampling is dictated by our desire to look at images from a different point of view requiring domaintransformations . This is a mathematical process.\n",
      "For that case the issue has been illustrated in Figure 4.10 on the next page . Subfigure a shows a discretetime signal that wed like to resample. The desired offgrid new sample locations have been indicated in subfigure b. The key question is how do we find sensible DIP20233.9TB Digital Image Processing  Text book\n",
      "Example As an example consider the histogram data below. It belongs to two simple 1111 test images and quantized using 3bitintensity values . Imageagain corresponds to Figure5.3 on page 70 . Imageis in fact nonexistent. The histogram is just a linear decreasing histogram for testing purposes.\n",
      "GH 1 GH 4.4.4 Common geometric transformations In this section we will discuss a number of common geometric transformations. We will limit ourselves to transformations that maintain lines. We will consider Linear transformations Affine transformations Projective transformations The former two maintain the parallelism of lines. The latter does not. Instead it allows to correct or invoke perspective in the image.\n",
      "One could consider imaging systems and image synthesis systems to be flavors of the same kind. We make the difference to stress the fact that image synthesis systems not necessarily strive to generate images that correspond to a physical reality wheras imaging systems do.\n",
      "Thegeodesic operations tackle this issue by adding a masking operation to the basic operations to correct for the boldness or the specific shape of the brush. To continue on the painters metaphor it is like using masking tape when painting a decoration on a wall the masking tape avoids painting areas that should not carry any paint. It diminishes the influence of the brush on the end result.\n",
      "186 CHAPTER 7. MATHEMATICALMORPHOLOGY As an example consider the image in Figure 7.27a. We indicated a small rectangular cutout on the image that we will study in detail. The cutout is taken from the radiator grille of the toy car on the left. A magnified version of the cutout can be found in Figure 7.27b the corresponding intensity values can be found in Figure 7.27c.\n",
      "To simplify the setting lets consider it our goal to discern the foreground and background pixels in an image based on their intensity values assuming foreground pixels have a high intensity value and background pixels a low intensity. In that way we create a binary partition of the image labeling all values above the intensity threshold as belonging to foreground pixels and all values below the intensity threshold as belonging to background pixels. In that sense thresholding converts a grayscale image to a binary image.\n",
      "252 CHAPTER 8. IMAGESEGMENTATION aImage of the town of Aalborg Denmark source Walter Daems bEdgepixelsderivedusingtheCannyedgedetec tion algorithm white  background black  fore ground cAccumulatorcell matrix dDetected lines indicated on the original image Figure 8.10 Illustration of the accumulatorcell algorithm on a grayscale test image University of Antwerp  TI\n",
      "This calls for a new type of color model. One that does not base itself on a particular choice of red green or blue but that is device independent .\n",
      "One might argue as to whether image analysis systems are more intelligent than image recognition systems. Actually it depends on the application at hand. Sometimes object recognition is required before one can deduce propertiescharacteristics of those objects.\n",
      "Every specific tristimulus vector corresponds to a specific color perception. That said it must be noted that not all tristimulus vectors correspond to valid perceptions. For example the tristimulus values of the vectors located on the individual axes for red green or blue will never occur in our brain. Its not a matter of not seeing them. It is a matter that they do not DIP20233.9TB Digital Image Processing  Text book\n",
      "To continue a bit further on the last issue regarding modes of movement without help it is impossible to make your eyeballs perform a perfect circular trajectory. Our tendency to move our eyes in a saccadic way ruins every attempt. Try doing so while a friend of yours watches your eyes. Heshe will clearly see the saccadic motions. On the contrary Move your finger in a big vertical circle in front of you and follow it with your eyes. Your friend will be able to see a continuous eye movement. Therefore it can be concluded that it is not some muscularly limitation but just one of the peculiarities of the big eye movement controller our brain. It is trained in the very first months of our life and in a Darwinian way naturally selected over the past millions of years to create still images of the things we are interested in. When man evolved from hunting behavior to a more sedentary behavior no doubt we lost some of our servomotoric capabilities.\n",
      "Uniform vs. graded quantization If all intervals are equal in size we are using socalled uniform quantization . Using intervals that are not of equal size is called nonuniform or graded quantization . Alaw or law quantization employed in cellphone communications are examples of the latter.\n",
      "We consider the value of the pixel normalized to the range 0to1as a membership function describing the pixels degree of membership to the foreground. We call these normalized intensity functions intensity membership functions . The higher the value the more the pixel belongs to the foreground. A white pixel with a value of 1 will be fully member of the foreground. The lower the intensity value the less it belongs to the foreground. A black pixel with a value of 0 will be in no way member of the foreground.\n",
      "7.1 Introduction Morphology is the science of shapes and forms. It exists in many science domains. In biology morphology is the science of the composition of living organisms. In linguistics it is the science of the composition of words and sentences. In the field of digital image processing it is the science of describing how images are composed using basic elements or objects. It is the science of deciding what pixels belong to the background what pixels belong to the foreground and what interesting objects can be enumerated on the foreground.\n",
      "Remarks This is typically done by finding corresponding control points in the two images followed by the quest for a transformation that relates the corresponding control points.\n",
      "Still it is important to realize that color is not a physical concept. It is our impression of the effect waves with different wavelengths have on the cones in our eyes. This makes color a difficult and partly an artificial concept. Our eyes cannot measure wavelength. Color is how our brain translates wavelengths in sensations.\n"
     ]
    },
    {
     "name": "stdout",
     "output_type": "stream",
     "text": [
      "Canny Edge detection is an algorithm used in image processing to detect a wide range of edges in images. It involves multiple steps such as gradient calculation, non-maximum suppression, and edge tracking by hysteresis.\n"
     ]
    },
    {
     "ename": "",
     "evalue": "",
     "output_type": "error",
     "traceback": [
      "\u001b[1;31mThe Kernel crashed while executing code in the current cell or a previous cell. \n",
      "\u001b[1;31mPlease review the code in the cell(s) to identify a possible cause of the failure. \n",
      "\u001b[1;31mClick <a href='https://aka.ms/vscodeJupyterKernelCrash'>here</a> for more info. \n",
      "\u001b[1;31mView Jupyter <a href='command:jupyter.viewOutput'>log</a> for further details."
     ]
    }
   ],
   "source": [
    "question = input(\"> \")\n",
    "answer = chatbot.askQuestion(question)\n",
    "print(answer)"
   ]
  }
 ],
 "metadata": {
  "kernelspec": {
   "display_name": "Python 3",
   "language": "python",
   "name": "python3"
  },
  "language_info": {
   "codemirror_mode": {
    "name": "ipython",
    "version": 3
   },
   "file_extension": ".py",
   "mimetype": "text/x-python",
   "name": "python",
   "nbconvert_exporter": "python",
   "pygments_lexer": "ipython3",
   "version": "3.11.4"
  }
 },
 "nbformat": 4,
 "nbformat_minor": 5
}
