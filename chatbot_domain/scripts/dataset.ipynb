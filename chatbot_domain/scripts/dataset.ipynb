{
 "cells": [
  {
   "cell_type": "code",
   "execution_count": 1,
   "metadata": {},
   "outputs": [
    {
     "name": "stdout",
     "output_type": "stream",
     "text": [
      "c:\\Users\\vince\\Documents\\school\\Unief-6\\6-bap\\chatbot_domain\n"
     ]
    },
    {
     "name": "stderr",
     "output_type": "stream",
     "text": [
      "c:\\Python311\\Lib\\site-packages\\IPython\\core\\magics\\osm.py:417: UserWarning: This is now an optional IPython functionality, setting dhist requires you to install the `pickleshare` library.\n",
      "  self.shell.db['dhist'] = compress_dhist(dhist)[-100:]\n"
     ]
    },
    {
     "name": "stdout",
     "output_type": "stream",
     "text": [
      "Requirement already satisfied: datasets==2.18.0 in c:\\python311\\lib\\site-packages (2.18.0)\n",
      "Requirement already satisfied: numpy==1.25.2 in c:\\python311\\lib\\site-packages (1.25.2)\n",
      "Collecting openai==1.17.0\n",
      "  Downloading openai-1.17.0-py3-none-any.whl.metadata (21 kB)\n",
      "Collecting pypdf==4.2.0\n",
      "  Downloading pypdf-4.2.0-py3-none-any.whl.metadata (7.4 kB)\n",
      "Requirement already satisfied: python-dotenv==1.0.1 in c:\\python311\\lib\\site-packages (1.0.1)\n",
      "Requirement already satisfied: torch==2.2.1 in c:\\python311\\lib\\site-packages (2.2.1+cu121)\n",
      "Requirement already satisfied: huggingface-hub in c:\\python311\\lib\\site-packages (0.21.4)\n",
      "Requirement already satisfied: transformers in c:\\python311\\lib\\site-packages (4.39.1)\n",
      "Requirement already satisfied: accelerate in c:\\python311\\lib\\site-packages (0.28.0)\n",
      "Requirement already satisfied: filelock in c:\\python311\\lib\\site-packages (from datasets==2.18.0) (3.13.1)\n",
      "Requirement already satisfied: pyarrow>=12.0.0 in c:\\python311\\lib\\site-packages (from datasets==2.18.0) (15.0.2)\n",
      "Requirement already satisfied: pyarrow-hotfix in c:\\python311\\lib\\site-packages (from datasets==2.18.0) (0.6)\n",
      "Requirement already satisfied: dill<0.3.9,>=0.3.0 in c:\\python311\\lib\\site-packages (from datasets==2.18.0) (0.3.8)\n",
      "Requirement already satisfied: pandas in c:\\python311\\lib\\site-packages (from datasets==2.18.0) (2.0.3)\n",
      "Requirement already satisfied: requests>=2.19.0 in c:\\python311\\lib\\site-packages (from datasets==2.18.0) (2.31.0)\n",
      "Requirement already satisfied: tqdm>=4.62.1 in c:\\python311\\lib\\site-packages (from datasets==2.18.0) (4.66.2)\n",
      "Requirement already satisfied: xxhash in c:\\python311\\lib\\site-packages (from datasets==2.18.0) (3.4.1)\n",
      "Requirement already satisfied: multiprocess in c:\\python311\\lib\\site-packages (from datasets==2.18.0) (0.70.16)\n",
      "Requirement already satisfied: fsspec<=2024.2.0,>=2023.1.0 in c:\\python311\\lib\\site-packages (from fsspec[http]<=2024.2.0,>=2023.1.0->datasets==2.18.0) (2023.10.0)\n",
      "Requirement already satisfied: aiohttp in c:\\python311\\lib\\site-packages (from datasets==2.18.0) (3.9.3)\n",
      "Requirement already satisfied: packaging in c:\\python311\\lib\\site-packages (from datasets==2.18.0) (23.2)\n",
      "Requirement already satisfied: pyyaml>=5.1 in c:\\python311\\lib\\site-packages (from datasets==2.18.0) (6.0.1)\n",
      "Requirement already satisfied: anyio<5,>=3.5.0 in c:\\python311\\lib\\site-packages (from openai==1.17.0) (4.3.0)\n",
      "Requirement already satisfied: distro<2,>=1.7.0 in c:\\python311\\lib\\site-packages (from openai==1.17.0) (1.9.0)\n",
      "Requirement already satisfied: httpx<1,>=0.23.0 in c:\\python311\\lib\\site-packages (from openai==1.17.0) (0.27.0)\n",
      "Requirement already satisfied: pydantic<3,>=1.9.0 in c:\\python311\\lib\\site-packages (from openai==1.17.0) (2.6.4)\n",
      "Requirement already satisfied: sniffio in c:\\python311\\lib\\site-packages (from openai==1.17.0) (1.3.1)\n",
      "Requirement already satisfied: typing-extensions<5,>=4.7 in c:\\python311\\lib\\site-packages (from openai==1.17.0) (4.10.0)\n",
      "Requirement already satisfied: sympy in c:\\python311\\lib\\site-packages (from torch==2.2.1) (1.12)\n",
      "Requirement already satisfied: networkx in c:\\python311\\lib\\site-packages (from torch==2.2.1) (3.2.1)\n",
      "Requirement already satisfied: jinja2 in c:\\python311\\lib\\site-packages (from torch==2.2.1) (3.1.2)\n",
      "Requirement already satisfied: regex!=2019.12.17 in c:\\python311\\lib\\site-packages (from transformers) (2023.12.25)\n",
      "Requirement already satisfied: tokenizers<0.19,>=0.14 in c:\\python311\\lib\\site-packages (from transformers) (0.15.2)\n",
      "Requirement already satisfied: safetensors>=0.4.1 in c:\\python311\\lib\\site-packages (from transformers) (0.4.2)\n",
      "Requirement already satisfied: psutil in c:\\python311\\lib\\site-packages (from accelerate) (5.9.8)\n",
      "Requirement already satisfied: idna>=2.8 in c:\\python311\\lib\\site-packages (from anyio<5,>=3.5.0->openai==1.17.0) (3.4)\n",
      "Requirement already satisfied: aiosignal>=1.1.2 in c:\\python311\\lib\\site-packages (from aiohttp->datasets==2.18.0) (1.3.1)\n",
      "Requirement already satisfied: attrs>=17.3.0 in c:\\python311\\lib\\site-packages (from aiohttp->datasets==2.18.0) (23.2.0)\n",
      "Requirement already satisfied: frozenlist>=1.1.1 in c:\\python311\\lib\\site-packages (from aiohttp->datasets==2.18.0) (1.4.1)\n",
      "Requirement already satisfied: multidict<7.0,>=4.5 in c:\\python311\\lib\\site-packages (from aiohttp->datasets==2.18.0) (6.0.5)\n",
      "Requirement already satisfied: yarl<2.0,>=1.0 in c:\\python311\\lib\\site-packages (from aiohttp->datasets==2.18.0) (1.9.4)\n",
      "Requirement already satisfied: certifi in c:\\python311\\lib\\site-packages (from httpx<1,>=0.23.0->openai==1.17.0) (2023.7.22)\n",
      "Requirement already satisfied: httpcore==1.* in c:\\python311\\lib\\site-packages (from httpx<1,>=0.23.0->openai==1.17.0) (1.0.4)\n",
      "Requirement already satisfied: h11<0.15,>=0.13 in c:\\python311\\lib\\site-packages (from httpcore==1.*->httpx<1,>=0.23.0->openai==1.17.0) (0.14.0)\n",
      "Requirement already satisfied: annotated-types>=0.4.0 in c:\\python311\\lib\\site-packages (from pydantic<3,>=1.9.0->openai==1.17.0) (0.6.0)\n",
      "Requirement already satisfied: pydantic-core==2.16.3 in c:\\python311\\lib\\site-packages (from pydantic<3,>=1.9.0->openai==1.17.0) (2.16.3)\n",
      "Requirement already satisfied: charset-normalizer<4,>=2 in c:\\python311\\lib\\site-packages (from requests>=2.19.0->datasets==2.18.0) (3.2.0)\n",
      "Requirement already satisfied: urllib3<3,>=1.21.1 in c:\\python311\\lib\\site-packages (from requests>=2.19.0->datasets==2.18.0) (2.0.4)\n",
      "Requirement already satisfied: colorama in c:\\python311\\lib\\site-packages (from tqdm>=4.62.1->datasets==2.18.0) (0.4.6)\n",
      "Requirement already satisfied: MarkupSafe>=2.0 in c:\\python311\\lib\\site-packages (from jinja2->torch==2.2.1) (2.1.3)\n",
      "Requirement already satisfied: python-dateutil>=2.8.2 in c:\\python311\\lib\\site-packages (from pandas->datasets==2.18.0) (2.8.2)\n",
      "Requirement already satisfied: pytz>=2020.1 in c:\\python311\\lib\\site-packages (from pandas->datasets==2.18.0) (2023.3)\n",
      "Requirement already satisfied: tzdata>=2022.1 in c:\\python311\\lib\\site-packages (from pandas->datasets==2.18.0) (2023.3)\n",
      "Requirement already satisfied: mpmath>=0.19 in c:\\python311\\lib\\site-packages (from sympy->torch==2.2.1) (1.3.0)\n",
      "Requirement already satisfied: six>=1.5 in c:\\python311\\lib\\site-packages (from python-dateutil>=2.8.2->pandas->datasets==2.18.0) (1.16.0)\n",
      "Downloading openai-1.17.0-py3-none-any.whl (268 kB)\n",
      "   ---------------------------------------- 0.0/268.3 kB ? eta -:--:--\n",
      "   ---------------------------------------- 0.0/268.3 kB ? eta -:--:--\n",
      "   - -------------------------------------- 10.2/268.3 kB ? eta -:--:--\n",
      "   - -------------------------------------- 10.2/268.3 kB ? eta -:--:--\n",
      "   - -------------------------------------- 10.2/268.3 kB ? eta -:--:--\n",
      "   ---- ---------------------------------- 30.7/268.3 kB 145.2 kB/s eta 0:00:02\n",
      "   ---- ---------------------------------- 30.7/268.3 kB 145.2 kB/s eta 0:00:02\n",
      "   ---- ---------------------------------- 30.7/268.3 kB 145.2 kB/s eta 0:00:02\n",
      "   ---- ---------------------------------- 30.7/268.3 kB 145.2 kB/s eta 0:00:02\n",
      "   ------ --------------------------------- 41.0/268.3 kB 89.3 kB/s eta 0:00:03\n",
      "   -------- ------------------------------ 61.4/268.3 kB 148.8 kB/s eta 0:00:02\n",
      "   -------- ------------------------------ 61.4/268.3 kB 148.8 kB/s eta 0:00:02\n",
      "   ----------- --------------------------- 81.9/268.3 kB 158.2 kB/s eta 0:00:02\n",
      "   ----------- --------------------------- 81.9/268.3 kB 158.2 kB/s eta 0:00:02\n",
      "   ----------- --------------------------- 81.9/268.3 kB 158.2 kB/s eta 0:00:02\n",
      "   ----------- --------------------------- 81.9/268.3 kB 158.2 kB/s eta 0:00:02\n",
      "   ----------- --------------------------- 81.9/268.3 kB 158.2 kB/s eta 0:00:02\n",
      "   ------------- ------------------------- 92.2/268.3 kB 124.9 kB/s eta 0:00:02\n",
      "   ------------- ------------------------- 92.2/268.3 kB 124.9 kB/s eta 0:00:02\n",
      "   --------------- ---------------------- 112.6/268.3 kB 136.5 kB/s eta 0:00:02\n",
      "   --------------- ---------------------- 112.6/268.3 kB 136.5 kB/s eta 0:00:02\n",
      "   ----------------- -------------------- 122.9/268.3 kB 131.1 kB/s eta 0:00:02\n",
      "   ----------------- -------------------- 122.9/268.3 kB 131.1 kB/s eta 0:00:02\n",
      "   -------------------- ----------------- 143.4/268.3 kB 137.4 kB/s eta 0:00:01\n",
      "   -------------------- ----------------- 143.4/268.3 kB 137.4 kB/s eta 0:00:01\n",
      "   -------------------- ----------------- 143.4/268.3 kB 137.4 kB/s eta 0:00:01\n",
      "   -------------------- ----------------- 143.4/268.3 kB 137.4 kB/s eta 0:00:01\n",
      "   -------------------- ----------------- 143.4/268.3 kB 137.4 kB/s eta 0:00:01\n",
      "   ------------------------ ------------- 174.1/268.3 kB 139.8 kB/s eta 0:00:01\n",
      "   ------------------------ ------------- 174.1/268.3 kB 139.8 kB/s eta 0:00:01\n",
      "   --------------------------- ---------- 194.6/268.3 kB 143.9 kB/s eta 0:00:01\n",
      "   --------------------------- ---------- 194.6/268.3 kB 143.9 kB/s eta 0:00:01\n",
      "   --------------------------- ---------- 194.6/268.3 kB 143.9 kB/s eta 0:00:01\n",
      "   --------------------------- ---------- 194.6/268.3 kB 143.9 kB/s eta 0:00:01\n",
      "   ----------------------------- -------- 204.8/268.3 kB 136.8 kB/s eta 0:00:01\n",
      "   ----------------------------- -------- 204.8/268.3 kB 136.8 kB/s eta 0:00:01\n",
      "   ----------------------------- -------- 204.8/268.3 kB 136.8 kB/s eta 0:00:01\n",
      "   ------------------------------- ------ 225.3/268.3 kB 136.3 kB/s eta 0:00:01\n",
      "   ---------------------------------- --- 245.8/268.3 kB 147.8 kB/s eta 0:00:01\n",
      "   ---------------------------------- --- 245.8/268.3 kB 147.8 kB/s eta 0:00:01\n",
      "   ---------------------------------- --- 245.8/268.3 kB 147.8 kB/s eta 0:00:01\n",
      "   ---------------------------------- --- 245.8/268.3 kB 147.8 kB/s eta 0:00:01\n",
      "   -------------------------------------- 268.3/268.3 kB 146.1 kB/s eta 0:00:00\n",
      "Downloading pypdf-4.2.0-py3-none-any.whl (290 kB)\n",
      "   ---------------------------------------- 0.0/290.4 kB ? eta -:--:--\n",
      "   ---------------------------------------- 0.0/290.4 kB ? eta -:--:--\n",
      "   - -------------------------------------- 10.2/290.4 kB ? eta -:--:--\n",
      "   - -------------------------------------- 10.2/290.4 kB ? eta -:--:--\n",
      "   ---- ---------------------------------- 30.7/290.4 kB 262.6 kB/s eta 0:00:01\n",
      "   ---- ---------------------------------- 30.7/290.4 kB 262.6 kB/s eta 0:00:01\n",
      "   ----- --------------------------------- 41.0/290.4 kB 219.4 kB/s eta 0:00:02\n",
      "   ----- --------------------------------- 41.0/290.4 kB 219.4 kB/s eta 0:00:02\n",
      "   -------- ------------------------------ 61.4/290.4 kB 218.8 kB/s eta 0:00:02\n",
      "   -------- ------------------------------ 61.4/290.4 kB 218.8 kB/s eta 0:00:02\n",
      "   --------- ----------------------------- 71.7/290.4 kB 187.3 kB/s eta 0:00:02\n",
      "   --------- ----------------------------- 71.7/290.4 kB 187.3 kB/s eta 0:00:02\n",
      "   ------------ -------------------------- 92.2/290.4 kB 201.8 kB/s eta 0:00:01\n",
      "   ------------ -------------------------- 92.2/290.4 kB 201.8 kB/s eta 0:00:01\n",
      "   ------------ -------------------------- 92.2/290.4 kB 201.8 kB/s eta 0:00:01\n",
      "   ------------- ------------------------ 102.4/290.4 kB 173.6 kB/s eta 0:00:02\n",
      "   ---------------- --------------------- 122.9/290.4 kB 189.6 kB/s eta 0:00:01\n",
      "   ---------------- --------------------- 122.9/290.4 kB 189.6 kB/s eta 0:00:01\n",
      "   ---------------- --------------------- 122.9/290.4 kB 189.6 kB/s eta 0:00:01\n",
      "   ---------------- --------------------- 122.9/290.4 kB 189.6 kB/s eta 0:00:01\n",
      "   -------------------- ----------------- 153.6/290.4 kB 191.1 kB/s eta 0:00:01\n",
      "   -------------------- ----------------- 153.6/290.4 kB 191.1 kB/s eta 0:00:01\n",
      "   ---------------------- --------------- 174.1/290.4 kB 194.1 kB/s eta 0:00:01\n",
      "   ---------------------- --------------- 174.1/290.4 kB 194.1 kB/s eta 0:00:01\n",
      "   ------------------------ ------------- 184.3/290.4 kB 185.8 kB/s eta 0:00:01\n",
      "   ------------------------ ------------- 184.3/290.4 kB 185.8 kB/s eta 0:00:01\n",
      "   ------------------------ ------------- 184.3/290.4 kB 185.8 kB/s eta 0:00:01\n",
      "   -------------------------- ----------- 204.8/290.4 kB 188.7 kB/s eta 0:00:01\n",
      "   ----------------------------- -------- 225.3/290.4 kB 196.6 kB/s eta 0:00:01\n",
      "   ------------------------------ ------- 235.5/290.4 kB 194.9 kB/s eta 0:00:01\n",
      "   ------------------------------ ------- 235.5/290.4 kB 194.9 kB/s eta 0:00:01\n",
      "   ------------------------------ ------- 235.5/290.4 kB 194.9 kB/s eta 0:00:01\n",
      "   ------------------------------ ------- 235.5/290.4 kB 194.9 kB/s eta 0:00:01\n",
      "   ------------------------------ ------- 235.5/290.4 kB 194.9 kB/s eta 0:00:01\n",
      "   ---------------------------------- --- 266.2/290.4 kB 190.5 kB/s eta 0:00:01\n",
      "   -------------------------------------- 290.4/290.4 kB 199.3 kB/s eta 0:00:00\n",
      "Installing collected packages: pypdf, openai\n",
      "  Attempting uninstall: pypdf\n",
      "    Found existing installation: pypdf 4.1.0\n",
      "    Uninstalling pypdf-4.1.0:\n",
      "      Successfully uninstalled pypdf-4.1.0\n",
      "  Attempting uninstall: openai\n",
      "    Found existing installation: openai 1.16.2\n",
      "    Uninstalling openai-1.16.2:\n",
      "Note: you may need to restart the kernel to use updated packages.\n",
      "c:\\Users\\vince\\Documents\\school\\Unief-6\\6-bap\n"
     ]
    },
    {
     "name": "stderr",
     "output_type": "stream",
     "text": [
      "ERROR: Could not install packages due to an OSError: [WinError 5] Access is denied: 'c:\\\\python311\\\\scripts\\\\openai.exe'\n",
      "Consider using the `--user` option or check the permissions.\n",
      "\n"
     ]
    },
    {
     "data": {
      "text/plain": [
       "'c:\\\\Users\\\\vince\\\\Documents\\\\school\\\\Unief-6\\\\6-bap'"
      ]
     },
     "execution_count": 1,
     "metadata": {},
     "output_type": "execute_result"
    }
   ],
   "source": [
    "%cd ../\n",
    "%pwd\n",
    "# %pip install datasets==2.18.0 numpy==1.25.2 openai==1.17.0 pypdf==4.2.0 python-dotenv==1.0.1 torch==2.2.1 huggingface-hub transformers accelerate\n",
    "%cd ../\n",
    "%pwd"
   ]
  },
  {
   "cell_type": "code",
   "execution_count": 2,
   "metadata": {},
   "outputs": [
    {
     "name": "stderr",
     "output_type": "stream",
     "text": [
      "2024-04-11 02:24:45,883 - chatbot_domain - INFO - Reading pdf-file\n",
      "2024-04-11 02:24:58,390 - chatbot_domain - INFO - Finished reading pdf.\n",
      "Extracted 1641 paragraphs and 15728 sentences\n",
      "2024-04-11 02:24:58,390 - chatbot_domain - INFO - creating dataset\n"
     ]
    },
    {
     "data": {
      "application/vnd.jupyter.widget-view+json": {
       "model_id": "20c5d1e9175d4bcb9aaa4e54559f5a7e",
       "version_major": 2,
       "version_minor": 0
      },
      "text/plain": [
       "Saving the dataset (0/1 shards):   0%|          | 0/15728 [00:00<?, ? examples/s]"
      ]
     },
     "metadata": {},
     "output_type": "display_data"
    }
   ],
   "source": [
    "from chatbot_domain.data import parseData, createDataSet, saveDataset\n",
    "\n",
    "\n",
    "parsedData = parseData('DIP-TB.pdf')\n",
    "dataset = createDataSet(parsedData, 0)['train']\n",
    "saveDataset(dataset, 'ragData.set')\n"
   ]
  },
  {
   "cell_type": "code",
   "execution_count": null,
   "metadata": {},
   "outputs": [],
   "source": []
  }
 ],
 "metadata": {
  "kernelspec": {
   "display_name": "Python 3",
   "language": "python",
   "name": "python3"
  },
  "language_info": {
   "codemirror_mode": {
    "name": "ipython",
    "version": 3
   },
   "file_extension": ".py",
   "mimetype": "text/x-python",
   "name": "python",
   "nbconvert_exporter": "python",
   "pygments_lexer": "ipython3",
   "version": "3.11.4"
  }
 },
 "nbformat": 4,
 "nbformat_minor": 4
}
