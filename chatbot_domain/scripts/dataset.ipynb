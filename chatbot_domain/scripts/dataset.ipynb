{
 "cells": [
  {
   "cell_type": "code",
   "execution_count": 1,
   "metadata": {},
   "outputs": [
    {
     "name": "stdout",
     "output_type": "stream",
     "text": [
      "/home/jupyter-vincent/6-bap/chatbot_domain\n",
      "Defaulting to user installation because normal site-packages is not writeable\n"
     ]
    },
    {
     "name": "stderr",
     "output_type": "stream",
     "text": [
      "/opt/tljh/user/lib/python3.10/site-packages/IPython/core/magics/osm.py:417: UserWarning: using dhist requires you to install the `pickleshare` library.\n",
      "  self.shell.db['dhist'] = compress_dhist(dhist)[-100:]\n"
     ]
    },
    {
     "name": "stdout",
     "output_type": "stream",
     "text": [
      "Requirement already satisfied: datasets==2.18.0 in /home/jupyter-vincent/.local/lib/python3.10/site-packages (2.18.0)\n",
      "Requirement already satisfied: numpy==1.25.2 in /home/jupyter-vincent/.local/lib/python3.10/site-packages (1.25.2)\n",
      "Requirement already satisfied: openai==1.17.0 in /home/jupyter-vincent/.local/lib/python3.10/site-packages (1.17.0)\n",
      "Requirement already satisfied: pypdf==4.2.0 in /home/jupyter-vincent/.local/lib/python3.10/site-packages (4.2.0)\n",
      "Requirement already satisfied: python-dotenv==1.0.1 in /home/jupyter-vincent/.local/lib/python3.10/site-packages (1.0.1)\n",
      "Requirement already satisfied: torch==2.2.1 in /home/jupyter-vincent/.local/lib/python3.10/site-packages (2.2.1)\n",
      "Requirement already satisfied: huggingface-hub in /home/jupyter-vincent/.local/lib/python3.10/site-packages (0.22.2)\n",
      "Requirement already satisfied: transformers in /home/jupyter-vincent/.local/lib/python3.10/site-packages (4.39.3)\n",
      "Collecting accelerate\n",
      "  Downloading accelerate-0.29.2-py3-none-any.whl.metadata (18 kB)\n",
      "Requirement already satisfied: filelock in /home/jupyter-vincent/.local/lib/python3.10/site-packages (from datasets==2.18.0) (3.13.3)\n",
      "Requirement already satisfied: pyarrow>=12.0.0 in /home/jupyter-vincent/.local/lib/python3.10/site-packages (from datasets==2.18.0) (15.0.2)\n",
      "Requirement already satisfied: pyarrow-hotfix in /home/jupyter-vincent/.local/lib/python3.10/site-packages (from datasets==2.18.0) (0.6)\n",
      "Requirement already satisfied: dill<0.3.9,>=0.3.0 in /home/jupyter-vincent/.local/lib/python3.10/site-packages (from datasets==2.18.0) (0.3.8)\n",
      "Requirement already satisfied: pandas in /home/jupyter-vincent/.local/lib/python3.10/site-packages (from datasets==2.18.0) (2.2.2)\n",
      "Requirement already satisfied: requests>=2.19.0 in /opt/tljh/user/lib/python3.10/site-packages (from datasets==2.18.0) (2.31.0)\n",
      "Requirement already satisfied: tqdm>=4.62.1 in /opt/tljh/user/lib/python3.10/site-packages (from datasets==2.18.0) (4.65.0)\n",
      "Requirement already satisfied: xxhash in /home/jupyter-vincent/.local/lib/python3.10/site-packages (from datasets==2.18.0) (3.4.1)\n",
      "Requirement already satisfied: multiprocess in /home/jupyter-vincent/.local/lib/python3.10/site-packages (from datasets==2.18.0) (0.70.16)\n",
      "Requirement already satisfied: fsspec<=2024.2.0,>=2023.1.0 in /home/jupyter-vincent/.local/lib/python3.10/site-packages (from fsspec[http]<=2024.2.0,>=2023.1.0->datasets==2.18.0) (2024.2.0)\n",
      "Requirement already satisfied: aiohttp in /home/jupyter-vincent/.local/lib/python3.10/site-packages (from datasets==2.18.0) (3.9.3)\n",
      "Requirement already satisfied: packaging in /opt/tljh/user/lib/python3.10/site-packages (from datasets==2.18.0) (23.2)\n",
      "Requirement already satisfied: pyyaml>=5.1 in /opt/tljh/user/lib/python3.10/site-packages (from datasets==2.18.0) (6.0.1)\n",
      "Requirement already satisfied: anyio<5,>=3.5.0 in /opt/tljh/user/lib/python3.10/site-packages (from openai==1.17.0) (4.3.0)\n",
      "Requirement already satisfied: distro<2,>=1.7.0 in /home/jupyter-vincent/.local/lib/python3.10/site-packages (from openai==1.17.0) (1.9.0)\n",
      "Requirement already satisfied: httpx<1,>=0.23.0 in /opt/tljh/user/lib/python3.10/site-packages (from openai==1.17.0) (0.26.0)\n",
      "Requirement already satisfied: pydantic<3,>=1.9.0 in /home/jupyter-vincent/.local/lib/python3.10/site-packages (from openai==1.17.0) (2.6.4)\n",
      "Requirement already satisfied: sniffio in /opt/tljh/user/lib/python3.10/site-packages (from openai==1.17.0) (1.3.0)\n",
      "Requirement already satisfied: typing-extensions<5,>=4.7 in /opt/tljh/user/lib/python3.10/site-packages (from openai==1.17.0) (4.9.0)\n",
      "Requirement already satisfied: sympy in /home/jupyter-vincent/.local/lib/python3.10/site-packages (from torch==2.2.1) (1.12)\n",
      "Requirement already satisfied: networkx in /home/jupyter-vincent/.local/lib/python3.10/site-packages (from torch==2.2.1) (3.2.1)\n",
      "Requirement already satisfied: jinja2 in /opt/tljh/user/lib/python3.10/site-packages (from torch==2.2.1) (3.1.3)\n",
      "Requirement already satisfied: nvidia-cuda-nvrtc-cu12==12.1.105 in /home/jupyter-vincent/.local/lib/python3.10/site-packages (from torch==2.2.1) (12.1.105)\n",
      "Requirement already satisfied: nvidia-cuda-runtime-cu12==12.1.105 in /home/jupyter-vincent/.local/lib/python3.10/site-packages (from torch==2.2.1) (12.1.105)\n",
      "Requirement already satisfied: nvidia-cuda-cupti-cu12==12.1.105 in /home/jupyter-vincent/.local/lib/python3.10/site-packages (from torch==2.2.1) (12.1.105)\n",
      "Requirement already satisfied: nvidia-cudnn-cu12==8.9.2.26 in /home/jupyter-vincent/.local/lib/python3.10/site-packages (from torch==2.2.1) (8.9.2.26)\n",
      "Requirement already satisfied: nvidia-cublas-cu12==12.1.3.1 in /home/jupyter-vincent/.local/lib/python3.10/site-packages (from torch==2.2.1) (12.1.3.1)\n",
      "Requirement already satisfied: nvidia-cufft-cu12==11.0.2.54 in /home/jupyter-vincent/.local/lib/python3.10/site-packages (from torch==2.2.1) (11.0.2.54)\n",
      "Requirement already satisfied: nvidia-curand-cu12==10.3.2.106 in /home/jupyter-vincent/.local/lib/python3.10/site-packages (from torch==2.2.1) (10.3.2.106)\n",
      "Requirement already satisfied: nvidia-cusolver-cu12==11.4.5.107 in /home/jupyter-vincent/.local/lib/python3.10/site-packages (from torch==2.2.1) (11.4.5.107)\n",
      "Requirement already satisfied: nvidia-cusparse-cu12==12.1.0.106 in /home/jupyter-vincent/.local/lib/python3.10/site-packages (from torch==2.2.1) (12.1.0.106)\n",
      "Requirement already satisfied: nvidia-nccl-cu12==2.19.3 in /home/jupyter-vincent/.local/lib/python3.10/site-packages (from torch==2.2.1) (2.19.3)\n",
      "Requirement already satisfied: nvidia-nvtx-cu12==12.1.105 in /home/jupyter-vincent/.local/lib/python3.10/site-packages (from torch==2.2.1) (12.1.105)\n",
      "Requirement already satisfied: triton==2.2.0 in /home/jupyter-vincent/.local/lib/python3.10/site-packages (from torch==2.2.1) (2.2.0)\n",
      "Requirement already satisfied: nvidia-nvjitlink-cu12 in /home/jupyter-vincent/.local/lib/python3.10/site-packages (from nvidia-cusolver-cu12==11.4.5.107->torch==2.2.1) (12.4.99)\n",
      "Requirement already satisfied: regex!=2019.12.17 in /home/jupyter-vincent/.local/lib/python3.10/site-packages (from transformers) (2023.12.25)\n",
      "Requirement already satisfied: tokenizers<0.19,>=0.14 in /home/jupyter-vincent/.local/lib/python3.10/site-packages (from transformers) (0.15.2)\n",
      "Requirement already satisfied: safetensors>=0.4.1 in /home/jupyter-vincent/.local/lib/python3.10/site-packages (from transformers) (0.4.2)\n",
      "Requirement already satisfied: psutil in /opt/tljh/user/lib/python3.10/site-packages (from accelerate) (5.9.8)\n",
      "Requirement already satisfied: idna>=2.8 in /opt/tljh/user/lib/python3.10/site-packages (from anyio<5,>=3.5.0->openai==1.17.0) (3.4)\n",
      "Requirement already satisfied: exceptiongroup>=1.0.2 in /opt/tljh/user/lib/python3.10/site-packages (from anyio<5,>=3.5.0->openai==1.17.0) (1.2.0)\n",
      "Requirement already satisfied: aiosignal>=1.1.2 in /home/jupyter-vincent/.local/lib/python3.10/site-packages (from aiohttp->datasets==2.18.0) (1.3.1)\n",
      "Requirement already satisfied: attrs>=17.3.0 in /opt/tljh/user/lib/python3.10/site-packages (from aiohttp->datasets==2.18.0) (23.2.0)\n",
      "Requirement already satisfied: frozenlist>=1.1.1 in /home/jupyter-vincent/.local/lib/python3.10/site-packages (from aiohttp->datasets==2.18.0) (1.4.1)\n",
      "Requirement already satisfied: multidict<7.0,>=4.5 in /home/jupyter-vincent/.local/lib/python3.10/site-packages (from aiohttp->datasets==2.18.0) (6.0.5)\n",
      "Requirement already satisfied: yarl<2.0,>=1.0 in /home/jupyter-vincent/.local/lib/python3.10/site-packages (from aiohttp->datasets==2.18.0) (1.9.4)\n",
      "Requirement already satisfied: async-timeout<5.0,>=4.0 in /home/jupyter-vincent/.local/lib/python3.10/site-packages (from aiohttp->datasets==2.18.0) (4.0.3)\n",
      "Requirement already satisfied: certifi in /opt/tljh/user/lib/python3.10/site-packages (from httpx<1,>=0.23.0->openai==1.17.0) (2022.12.7)\n",
      "Requirement already satisfied: httpcore==1.* in /opt/tljh/user/lib/python3.10/site-packages (from httpx<1,>=0.23.0->openai==1.17.0) (1.0.3)\n",
      "Requirement already satisfied: h11<0.15,>=0.13 in /opt/tljh/user/lib/python3.10/site-packages (from httpcore==1.*->httpx<1,>=0.23.0->openai==1.17.0) (0.14.0)\n",
      "Requirement already satisfied: annotated-types>=0.4.0 in /home/jupyter-vincent/.local/lib/python3.10/site-packages (from pydantic<3,>=1.9.0->openai==1.17.0) (0.6.0)\n",
      "Requirement already satisfied: pydantic-core==2.16.3 in /home/jupyter-vincent/.local/lib/python3.10/site-packages (from pydantic<3,>=1.9.0->openai==1.17.0) (2.16.3)\n",
      "Requirement already satisfied: charset-normalizer<4,>=2 in /opt/tljh/user/lib/python3.10/site-packages (from requests>=2.19.0->datasets==2.18.0) (3.1.0)\n",
      "Requirement already satisfied: urllib3<3,>=1.21.1 in /opt/tljh/user/lib/python3.10/site-packages (from requests>=2.19.0->datasets==2.18.0) (1.26.15)\n",
      "Requirement already satisfied: MarkupSafe>=2.0 in /opt/tljh/user/lib/python3.10/site-packages (from jinja2->torch==2.2.1) (2.1.5)\n",
      "Requirement already satisfied: python-dateutil>=2.8.2 in /opt/tljh/user/lib/python3.10/site-packages (from pandas->datasets==2.18.0) (2.8.2)\n",
      "Requirement already satisfied: pytz>=2020.1 in /home/jupyter-vincent/.local/lib/python3.10/site-packages (from pandas->datasets==2.18.0) (2024.1)\n",
      "Requirement already satisfied: tzdata>=2022.7 in /home/jupyter-vincent/.local/lib/python3.10/site-packages (from pandas->datasets==2.18.0) (2024.1)\n",
      "Requirement already satisfied: mpmath>=0.19 in /home/jupyter-vincent/.local/lib/python3.10/site-packages (from sympy->torch==2.2.1) (1.3.0)\n",
      "Requirement already satisfied: six>=1.5 in /opt/tljh/user/lib/python3.10/site-packages (from python-dateutil>=2.8.2->pandas->datasets==2.18.0) (1.16.0)\n",
      "Downloading accelerate-0.29.2-py3-none-any.whl (297 kB)\n",
      "\u001b[2K   \u001b[90m━━━━━━━━━━━━━━━━━━━━━━━━━━━━━━━━━━━━━━━━\u001b[0m \u001b[32m297.4/297.4 kB\u001b[0m \u001b[31m5.3 MB/s\u001b[0m eta \u001b[36m0:00:00\u001b[0m00:01\u001b[0m\n",
      "\u001b[?25hInstalling collected packages: accelerate\n",
      "\u001b[33m  WARNING: The scripts accelerate, accelerate-config, accelerate-estimate-memory and accelerate-launch are installed in '/home/jupyter-vincent/.local/bin' which is not on PATH.\n",
      "  Consider adding this directory to PATH or, if you prefer to suppress this warning, use --no-warn-script-location.\u001b[0m\u001b[33m\n",
      "\u001b[0mSuccessfully installed accelerate-0.29.2\n",
      "Note: you may need to restart the kernel to use updated packages.\n",
      "/home/jupyter-vincent/6-bap\n"
     ]
    },
    {
     "data": {
      "text/plain": [
       "'/home/jupyter-vincent/6-bap'"
      ]
     },
     "execution_count": 1,
     "metadata": {},
     "output_type": "execute_result"
    }
   ],
   "source": [
    "%cd ../\n",
    "%pwd\n",
    "%pip install datasets==2.18.0 numpy==1.25.2 openai==1.17.0 pypdf==4.2.0 python-dotenv==1.0.1 torch==2.2.1 huggingface-hub transformers accelerate\n",
    "%cd ../\n",
    "%pwd"
   ]
  },
  {
   "cell_type": "code",
   "execution_count": 2,
   "metadata": {},
   "outputs": [
    {
     "name": "stderr",
     "output_type": "stream",
     "text": [
      "2024-04-11 01:41:18,229 - chatbot_domain - INFO - Reading pdf-file\n",
      "2024-04-11 01:41:24,047 - chatbot_domain - INFO - Finished reading pdf.\n",
      "Extracted 1641 paragraphs and 15728 sentences\n",
      "2024-04-11 01:41:24,047 - chatbot_domain - INFO - creating dataset\n"
     ]
    },
    {
     "data": {
      "application/vnd.jupyter.widget-view+json": {
       "model_id": "0a1a8ab679fc46caa69942d9226832e4",
       "version_major": 2,
       "version_minor": 0
      },
      "text/plain": [
       "Saving the dataset (0/1 shards):   0%|          | 0/15728 [00:00<?, ? examples/s]"
      ]
     },
     "metadata": {},
     "output_type": "display_data"
    }
   ],
   "source": [
    "from chatbot_domain.data import parseData, createDataSet, saveDataset\n",
    "\n",
    "\n",
    "parsedData = parseData('DIP-TB.pdf')\n",
    "dataset = createDataSet(parsedData, 0)['train']\n",
    "saveDataset(dataset, 'ragData.set')\n"
   ]
  },
  {
   "cell_type": "code",
   "execution_count": null,
   "metadata": {},
   "outputs": [],
   "source": []
  }
 ],
 "metadata": {
  "kernelspec": {
   "display_name": "domain-llm",
   "language": "python",
   "name": "domain-llm"
  },
  "language_info": {
   "codemirror_mode": {
    "name": "ipython",
    "version": 3
   },
   "file_extension": ".py",
   "mimetype": "text/x-python",
   "name": "python",
   "nbconvert_exporter": "python",
   "pygments_lexer": "ipython3",
   "version": "3.10.10"
  }
 },
 "nbformat": 4,
 "nbformat_minor": 4
}
