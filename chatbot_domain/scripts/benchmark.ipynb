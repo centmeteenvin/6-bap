{
 "cells": [
  {
   "cell_type": "code",
   "execution_count": 1,
   "metadata": {},
   "outputs": [
    {
     "name": "stdout",
     "output_type": "stream",
     "text": [
      "c:\\Users\\vince\\Documents\\school\\Unief-6\\6-bap\n"
     ]
    },
    {
     "data": {
      "text/plain": [
       "'c:\\\\Users\\\\vince\\\\Documents\\\\school\\\\Unief-6\\\\6-bap'"
      ]
     },
     "execution_count": 1,
     "metadata": {},
     "output_type": "execute_result"
    }
   ],
   "source": [
    "%cd ../../\n",
    "%pwd"
   ]
  },
  {
   "cell_type": "code",
   "execution_count": 2,
   "metadata": {},
   "outputs": [
    {
     "name": "stderr",
     "output_type": "stream",
     "text": [
      "2024-04-19 17:44:48,160 - chatbot_domain - INFO - Loading dataset from ragData.set\n",
      "Some weights of the model checkpoint at facebook/dpr-ctx_encoder-single-nq-base were not used when initializing DPRContextEncoder: ['ctx_encoder.bert_model.pooler.dense.bias', 'ctx_encoder.bert_model.pooler.dense.weight']\n",
      "- This IS expected if you are initializing DPRContextEncoder from the checkpoint of a model trained on another task or with another architecture (e.g. initializing a BertForSequenceClassification model from a BertForPreTraining model).\n",
      "- This IS NOT expected if you are initializing DPRContextEncoder from the checkpoint of a model that you expect to be exactly identical (initializing a BertForSequenceClassification model from a BertForSequenceClassification model).\n",
      "The tokenizer class you load from this checkpoint is not the same type as the class this function is called from. It may result in unexpected tokenization. \n",
      "The tokenizer class you load from this checkpoint is 'DPRQuestionEncoderTokenizer'. \n",
      "The class this function is called from is 'DPRContextEncoderTokenizer'.\n",
      "Some weights of the model checkpoint at facebook/dpr-question_encoder-single-nq-base were not used when initializing DPRQuestionEncoder: ['question_encoder.bert_model.pooler.dense.bias', 'question_encoder.bert_model.pooler.dense.weight']\n",
      "- This IS expected if you are initializing DPRQuestionEncoder from the checkpoint of a model trained on another task or with another architecture (e.g. initializing a BertForSequenceClassification model from a BertForPreTraining model).\n",
      "- This IS NOT expected if you are initializing DPRQuestionEncoder from the checkpoint of a model that you expect to be exactly identical (initializing a BertForSequenceClassification model from a BertForSequenceClassification model).\n",
      "2024-04-19 17:45:00,502 - chatbot_domain - INFO - Adding faiss Indices\n"
     ]
    },
    {
     "data": {
      "application/vnd.jupyter.widget-view+json": {
       "model_id": "0e3bb03d982c42f1911f00d3c39d81d4",
       "version_major": 2,
       "version_minor": 0
      },
      "text/plain": [
       "  0%|          | 0/16 [00:00<?, ?it/s]"
      ]
     },
     "metadata": {},
     "output_type": "display_data"
    },
    {
     "name": "stderr",
     "output_type": "stream",
     "text": [
      "2024-04-19 17:45:00,661 - chatbot_domain - INFO - Saving modified dataset\n",
      "2024-04-19 17:45:00,664 - chatbot_domain - INFO - Question 1/23\n",
      "2024-04-19 17:45:10,702 - chatbot_domain - INFO - Question 2/23\n",
      "2024-04-19 17:45:15,328 - chatbot_domain - INFO - Question 3/23\n",
      "2024-04-19 17:45:23,626 - chatbot_domain - INFO - Question 4/23\n",
      "2024-04-19 17:45:35,556 - chatbot_domain - INFO - Question 5/23\n",
      "2024-04-19 17:45:59,980 - chatbot_domain - INFO - Question 6/23\n",
      "2024-04-19 17:46:17,505 - chatbot_domain - INFO - Question 7/23\n",
      "2024-04-19 17:46:33,459 - chatbot_domain - INFO - Question 8/23\n",
      "2024-04-19 17:46:44,727 - chatbot_domain - INFO - Question 9/23\n",
      "2024-04-19 17:46:53,556 - chatbot_domain - INFO - Question 10/23\n",
      "2024-04-19 17:47:12,688 - chatbot_domain - INFO - Question 11/23\n",
      "2024-04-19 17:47:28,570 - chatbot_domain - INFO - Question 12/23\n",
      "2024-04-19 17:47:39,305 - chatbot_domain - INFO - Question 13/23\n",
      "2024-04-19 17:47:50,556 - chatbot_domain - INFO - Question 14/23\n",
      "2024-04-19 17:48:09,410 - chatbot_domain - INFO - Question 15/23\n",
      "2024-04-19 17:48:26,514 - chatbot_domain - INFO - Question 16/23\n",
      "2024-04-19 17:48:37,265 - chatbot_domain - INFO - Question 17/23\n",
      "2024-04-19 17:48:54,256 - chatbot_domain - INFO - Question 18/23\n",
      "2024-04-19 17:49:08,494 - chatbot_domain - INFO - Question 19/23\n",
      "2024-04-19 17:49:40,770 - chatbot_domain - INFO - Question 20/23\n",
      "2024-04-19 17:49:50,965 - chatbot_domain - INFO - Question 21/23\n",
      "2024-04-19 17:50:05,221 - chatbot_domain - INFO - Question 22/23\n",
      "2024-04-19 17:50:23,552 - chatbot_domain - INFO - Question 23/23\n"
     ]
    },
    {
     "name": "stdout",
     "output_type": "stream",
     "text": [
      "\n",
      "    ================================================================================\n",
      "    # TEST RESULTS\n",
      "    overal Score: 19/23\n",
      "    ## breakdown:\n",
      "        literal:                11/13\n",
      "        deduction:               4/4\n",
      "        wrong answers:           1/3\n",
      "        outside domain:          3/3        \n",
      "    ================================================================================\n",
      "    \n"
     ]
    }
   ],
   "source": [
    "from chatbot_domain.benchmark import JsonQuestionParser, Benchmarker, AlwaysATestSubject, NLPTestSubject\n",
    "from chatbot_domain.chatbot import ChatBotModifier, OpenAIChatBot, DIPDomainGuard, ChatBotBuilder, RAGBuilder\n",
    "from chatbot_domain.rag import VectorRetriever, FacebookDPR\n",
    "from chatbot_domain.data import loadDataSetFromDisk\n",
    "from chatbot_domain import logger\n",
    "\n",
    "logger.setLevel(\"INFO\")\n",
    "\n",
    "chatbot = ChatBotBuilder.openAI('gpt-4-turbo').benchmarkGuard().domainGuard(DIPDomainGuard).rag(\n",
    "    RAGBuilder.fromDatasetDisk('ragData.set').vectorRetriever(FacebookDPR()), contextLength = 1024 * 8\n",
    "    ).build()\n",
    "\n",
    "parser = JsonQuestionParser('questions.json')\n",
    "questions = parser.parse()\n",
    "\n",
    "\n",
    "benchmarker = Benchmarker(NLPTestSubject(chatbot), questions)\n",
    "testResult = benchmarker.evaluate()\n",
    "print(testResult)\n",
    "testResult.save('./scores')"
   ]
  }
 ],
 "metadata": {
  "kernelspec": {
   "display_name": "Python 3",
   "language": "python",
   "name": "python3"
  },
  "language_info": {
   "codemirror_mode": {
    "name": "ipython",
    "version": 3
   },
   "file_extension": ".py",
   "mimetype": "text/x-python",
   "name": "python",
   "nbconvert_exporter": "python",
   "pygments_lexer": "ipython3",
   "version": "3.11.4"
  }
 },
 "nbformat": 4,
 "nbformat_minor": 2
}
