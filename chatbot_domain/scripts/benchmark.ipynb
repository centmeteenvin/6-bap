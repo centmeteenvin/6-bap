{
 "cells": [
  {
   "cell_type": "code",
   "execution_count": 1,
   "metadata": {},
   "outputs": [
    {
     "name": "stdout",
     "output_type": "stream",
     "text": [
      "c:\\Users\\vince\\Documents\\school\\Unief-6\\6-bap\n"
     ]
    },
    {
     "data": {
      "text/plain": [
       "'c:\\\\Users\\\\vince\\\\Documents\\\\school\\\\Unief-6\\\\6-bap'"
      ]
     },
     "execution_count": 1,
     "metadata": {},
     "output_type": "execute_result"
    }
   ],
   "source": [
    "%cd ../../\n",
    "%pwd"
   ]
  },
  {
   "cell_type": "code",
   "execution_count": 2,
   "metadata": {},
   "outputs": [
    {
     "ename": "TypeError",
     "evalue": "HumanTestSubject.__init__() missing 1 required positional argument: 'name'",
     "output_type": "error",
     "traceback": [
      "\u001b[1;31m---------------------------------------------------------------------------\u001b[0m",
      "\u001b[1;31mTypeError\u001b[0m                                 Traceback (most recent call last)",
      "Cell \u001b[1;32mIn[2], line 17\u001b[0m\n\u001b[0;32m     14\u001b[0m questions \u001b[38;5;241m=\u001b[39m parser\u001b[38;5;241m.\u001b[39mparse()\n\u001b[0;32m     16\u001b[0m name \u001b[38;5;241m=\u001b[39m \u001b[38;5;28minput\u001b[39m(\u001b[38;5;124m\"\u001b[39m\u001b[38;5;124mname: \u001b[39m\u001b[38;5;124m\"\u001b[39m)\n\u001b[1;32m---> 17\u001b[0m benchmarker \u001b[38;5;241m=\u001b[39m Benchmarker(\u001b[43mHumanTestSubject\u001b[49m\u001b[43m(\u001b[49m\u001b[43m)\u001b[49m, questions)\n\u001b[0;32m     18\u001b[0m testResult \u001b[38;5;241m=\u001b[39m benchmarker\u001b[38;5;241m.\u001b[39mevaluate()\n\u001b[0;32m     19\u001b[0m \u001b[38;5;28mprint\u001b[39m(testResult)\n",
      "\u001b[1;31mTypeError\u001b[0m: HumanTestSubject.__init__() missing 1 required positional argument: 'name'"
     ]
    }
   ],
   "source": [
    "from chatbot_domain.benchmark import JsonQuestionParser, Benchmarker, AlwaysATestSubject, NLPTestSubject, HumanTestSubject\n",
    "from chatbot_domain.chatbot import ChatBotModifier, OpenAIChatBot, DIPDomainGuard, ChatBotBuilder, RAGBuilder\n",
    "from chatbot_domain.rag import VectorRetriever, FacebookDPR\n",
    "from chatbot_domain.data import loadDataSetFromDisk\n",
    "from chatbot_domain import logger\n",
    "\n",
    "logger.setLevel(\"INFO\")\n",
    "\n",
    "# chatbot = ChatBotBuilder.openAI('gpt-4-turbo').benchmarkGuard().domainGuard(DIPDomainGuard).rag(\n",
    "#     RAGBuilder.fromDatasetDisk('ragData.set').vectorRetriever(FacebookDPR()), contextLength = 1024 * 8\n",
    "#     ).build()\n",
    "\n",
    "parser = JsonQuestionParser('questions.json')\n",
    "questions = parser.parse()\n",
    "\n",
    "name = input(\"name: \")\n",
    "benchmarker = Benchmarker(HumanTestSubject(name), questions)\n",
    "testResult = benchmarker.evaluate()\n",
    "print(testResult)\n",
    "testResult.save('./scores')"
   ]
  },
  {
   "cell_type": "code",
   "execution_count": null,
   "metadata": {},
   "outputs": [],
   "source": [
    " "
   ]
  }
 ],
 "metadata": {
  "kernelspec": {
   "display_name": "Python 3",
   "language": "python",
   "name": "python3"
  },
  "language_info": {
   "codemirror_mode": {
    "name": "ipython",
    "version": 3
   },
   "file_extension": ".py",
   "mimetype": "text/x-python",
   "name": "python",
   "nbconvert_exporter": "python",
   "pygments_lexer": "ipython3",
   "version": "3.11.4"
  }
 },
 "nbformat": 4,
 "nbformat_minor": 2
}
