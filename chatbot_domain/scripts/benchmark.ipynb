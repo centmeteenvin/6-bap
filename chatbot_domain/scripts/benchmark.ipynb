{
 "cells": [
  {
   "cell_type": "code",
   "execution_count": 1,
   "metadata": {},
   "outputs": [
    {
     "name": "stdout",
     "output_type": "stream",
     "text": [
      "c:\\Users\\vince\\Documents\\school\\Unief-6\\6-bap\n"
     ]
    },
    {
     "data": {
      "text/plain": [
       "'c:\\\\Users\\\\vince\\\\Documents\\\\school\\\\Unief-6\\\\6-bap'"
      ]
     },
     "execution_count": 1,
     "metadata": {},
     "output_type": "execute_result"
    }
   ],
   "source": [
    "%cd ../../\n",
    "%pwd"
   ]
  },
  {
   "cell_type": "code",
   "execution_count": 2,
   "metadata": {},
   "outputs": [
    {
     "name": "stderr",
     "output_type": "stream",
     "text": [
      "2024-04-23 09:30:59,888 - chatbot_domain - INFO - Question 1/23\n"
     ]
    },
    {
     "name": "stdout",
     "output_type": "stream",
     "text": [
      "Question: What does contrast stretching do?\n",
      "1. This transformation makes the image darker or brighter depending on the value of the parameter y.\n",
      "2. This transformation makes the image darker.\n",
      "3. This transformation makes the image brighter.\n",
      "4. No correct answer is present.\n",
      "5. This question is outside my domain of knowledge.\n",
      "Question: What does contrast stretching do?\n",
      "1. This transformation makes the image darker or brighter depending on the value of the parameter y.\n",
      "2. This transformation makes the image darker.\n",
      "3. This transformation makes the image brighter.\n",
      "4. No correct answer is present.\n",
      "5. This question is outside my domain of knowledge.\n"
     ]
    },
    {
     "name": "stderr",
     "output_type": "stream",
     "text": [
      "2024-04-23 09:31:15,952 - chatbot_domain - INFO - Question 2/23\n"
     ]
    },
    {
     "name": "stdout",
     "output_type": "stream",
     "text": [
      "Question: What does correlation have to do with calculating derivatives?\n",
      "1. They are not related\n",
      "2. You can use it to calculate the derivative of an 2D matrix by correlating with a specific kernel, convolution also does not have this property\n",
      "3. You can use it to calculate the derivative of an 2D matrix by correlating with a specific kernel, convolution also has this property\n",
      "4. No correct answer is present.\n",
      "5. This question is outside my domain of knowledge.\n"
     ]
    },
    {
     "name": "stderr",
     "output_type": "stream",
     "text": [
      "2024-04-23 09:31:23,210 - chatbot_domain - INFO - Question 3/23\n"
     ]
    },
    {
     "name": "stdout",
     "output_type": "stream",
     "text": [
      "Question: What are pixels are V components?\n",
      "1. The union of all pixels q that can be connected through V-paths with pixel p.\n",
      "2. The intersection of all pixels q that can be connected through V-paths with pixel p.\n",
      "3. The union of all pixels 1 that cannot be connected through V-paths with pixel p.\n",
      "4. No correct answer is present.\n",
      "5. This question is outside my domain of knowledge.\n"
     ]
    },
    {
     "name": "stderr",
     "output_type": "stream",
     "text": [
      "2024-04-23 09:31:25,391 - chatbot_domain - INFO - Question 4/23\n"
     ]
    },
    {
     "name": "stdout",
     "output_type": "stream",
     "text": [
      "Question: If radiometric quantities talk about how we perceive light, will it cover more or less of the spectrum with respect to photometric quantities?\n",
      "1. Yes.\n",
      "2. No.\n",
      "3. No correct answer is present.\n",
      "4. This question is outside my domain of knowledge.\n"
     ]
    },
    {
     "name": "stderr",
     "output_type": "stream",
     "text": [
      "2024-04-23 09:31:41,361 - chatbot_domain - INFO - Question 5/23\n"
     ]
    },
    {
     "name": "stdout",
     "output_type": "stream",
     "text": [
      "Question: What is the unit of Luminance\n",
      "1. lm/(sr*m^2).\n",
      "2. lm/W.\n",
      "3. lx(sr*m^2).\n",
      "4. No correct answer is present.\n",
      "5. This question is outside my domain of knowledge.\n"
     ]
    },
    {
     "name": "stderr",
     "output_type": "stream",
     "text": [
      "2024-04-23 09:31:49,868 - chatbot_domain - INFO - Question 6/23\n"
     ]
    },
    {
     "name": "stdout",
     "output_type": "stream",
     "text": [
      "Question: What is an image synthesis system?\n",
      "1. Systems that generate new or augment existing images, starting from a specific set of data.\n",
      "2. Systems that analyze images to such a level that a predefinied set of meaningful structures can be isolated (located) in the image (the system understands the image; e.g., detecting metallic particles on a conveyor belt carrying food);\n",
      "3. Systems that process incoming sensor data with the objective to generate images that are suited for human interpretation.\n",
      "4. No correct answer is present.\n",
      "5. This question is outside my domain of knowledge.\n"
     ]
    },
    {
     "name": "stderr",
     "output_type": "stream",
     "text": [
      "2024-04-23 09:31:56,243 - chatbot_domain - INFO - Question 7/23\n"
     ]
    },
    {
     "name": "stdout",
     "output_type": "stream",
     "text": [
      "Question: Why is there a difference between binary and grayscale image for mathematical morphology?\n",
      "1. Because the grayscale image contains more data.\n",
      "2. Because the set operation we use for binary images don't work on continuous values.\n",
      "3. Because binary images don't work well on computers.\n",
      "4. No correct answer is present.\n",
      "5. This question is outside my domain of knowledge.\n"
     ]
    },
    {
     "name": "stderr",
     "output_type": "stream",
     "text": [
      "2024-04-23 09:32:03,104 - chatbot_domain - INFO - Question 8/23\n"
     ]
    },
    {
     "name": "stdout",
     "output_type": "stream",
     "text": [
      "Question: Why do we need to sample images?\n",
      "1. In real life images are continuous signals, we can't work with those on a computer so we need to extract continuous datapoints.\n",
      "2. In real life images are continuous signals, we can't work with those on a computer so we need to extract discrete datapoints.\n",
      "3. In real life images are discrete signals, we can't work with those on a computer so we need to extract discrete datapoints.\n",
      "4. No correct answer is present.\n",
      "5. This question is outside my domain of knowledge.\n"
     ]
    },
    {
     "name": "stderr",
     "output_type": "stream",
     "text": [
      "2024-04-23 09:32:09,583 - chatbot_domain - INFO - Question 9/23\n"
     ]
    },
    {
     "name": "stdout",
     "output_type": "stream",
     "text": [
      "Question: What can we use the min and max filter for?\n",
      "1. Border evacuation.\n",
      "2. Edge detection.\n",
      "3. Brightening the image.\n",
      "4. No correct answer is present.\n",
      "5. This question is outside my domain of knowledge.\n"
     ]
    },
    {
     "name": "stderr",
     "output_type": "stream",
     "text": [
      "2024-04-23 09:32:13,823 - chatbot_domain - INFO - Question 10/23\n"
     ]
    },
    {
     "name": "stdout",
     "output_type": "stream",
     "text": [
      "Question: Which intensity transformation makes an image strictly brighter\n",
      "1. Gamma transformation.\n",
      "2. Log transformation.\n",
      "3. This cannot be achieved through an intensity transformation.\n",
      "4. No correct answer is present.\n",
      "5. This question is outside my domain of knowledge.\n",
      "Question: Which intensity transformation makes an image strictly brighter\n",
      "1. Gamma transformation.\n",
      "2. Log transformation.\n",
      "3. This cannot be achieved through an intensity transformation.\n",
      "4. No correct answer is present.\n",
      "5. This question is outside my domain of knowledge.\n"
     ]
    },
    {
     "name": "stderr",
     "output_type": "stream",
     "text": [
      "2024-04-23 09:32:21,635 - chatbot_domain - INFO - Question 11/23\n"
     ]
    },
    {
     "name": "stdout",
     "output_type": "stream",
     "text": [
      "Question: What are the basic operations of mathematical morphology?\n",
      "1. Adding and subtracting.\n",
      "2. Opening and closing.\n",
      "3. Dilation and erosion.\n",
      "4. No correct answer is present.\n",
      "5. This question is outside my domain of knowledge.\n"
     ]
    },
    {
     "name": "stderr",
     "output_type": "stream",
     "text": [
      "2024-04-23 09:32:25,092 - chatbot_domain - INFO - Question 12/23\n"
     ]
    },
    {
     "name": "stdout",
     "output_type": "stream",
     "text": [
      "Question: Which term is not associated with resampling?\n",
      "1. On-grid.\n",
      "2. Dilation.\n",
      "3. Up-sampling.\n",
      "4. No correct answer is present.\n",
      "5. This question is outside my domain of knowledge.\n"
     ]
    },
    {
     "name": "stderr",
     "output_type": "stream",
     "text": [
      "2024-04-23 09:32:28,191 - chatbot_domain - INFO - Question 13/23\n"
     ]
    },
    {
     "name": "stdout",
     "output_type": "stream",
     "text": [
      "Question: What is spatial resolution?\n",
      "1. The spatial resolution of an image, indicates the number of pixels per unit area.\n",
      "2. The spatial resolution of an image, an image sensor (camera) or an image actuator (screen) indicates the size of the smallest feature that can be recognized in the image.\n",
      "3. The spatial resolution of an image is the amount of pixels it contains\n",
      "4. No correct answer is present.\n",
      "5. This question is outside my domain of knowledge.\n"
     ]
    },
    {
     "name": "stderr",
     "output_type": "stream",
     "text": [
      "2024-04-23 09:32:32,549 - chatbot_domain - INFO - Question 14/23\n"
     ]
    },
    {
     "name": "stdout",
     "output_type": "stream",
     "text": [
      "Question: What is interpolation used for?\n",
      "1. To create logical value between to datapoints.\n",
      "2. To remove datapoints.\n",
      "3. To change the value of two datapoints\n",
      "4. No correct answer is present.\n",
      "5. This question is outside my domain of knowledge.\n"
     ]
    },
    {
     "name": "stderr",
     "output_type": "stream",
     "text": [
      "2024-04-23 09:32:36,125 - chatbot_domain - INFO - Question 15/23\n"
     ]
    },
    {
     "name": "stdout",
     "output_type": "stream",
     "text": [
      "Question: What is the border patrol technique called that reflects the values of the pixels along the border?\n",
      "1. Border replication.\n",
      "2. Border mirroring.\n",
      "3. Constant padding.\n",
      "4. No correct answer is present.\n",
      "5. This question is outside my domain of knowledge.\n"
     ]
    },
    {
     "name": "stderr",
     "output_type": "stream",
     "text": [
      "2024-04-23 09:32:40,097 - chatbot_domain - INFO - Question 16/23\n"
     ]
    },
    {
     "name": "stdout",
     "output_type": "stream",
     "text": [
      "Question: In what language is the python compiler written\n",
      "1. C++\n",
      "2. Java\n",
      "3. Cobol\n",
      "4. No correct answer is present.\n",
      "5. This question is outside my domain of knowledge.\n",
      "Question: In what language is the python compiler written\n",
      "1. C++\n",
      "2. Java\n",
      "3. Cobol\n",
      "4. No correct answer is present.\n",
      "5. This question is outside my domain of knowledge.\n"
     ]
    },
    {
     "name": "stderr",
     "output_type": "stream",
     "text": [
      "2024-04-23 09:32:48,014 - chatbot_domain - INFO - Question 17/23\n"
     ]
    },
    {
     "name": "stdout",
     "output_type": "stream",
     "text": [
      "Question: What is the difference between sampling and quantization?\n",
      "1. Quantization is discretization of the domain, sampling is discretization of the values themselves.\n",
      "2. Sampling is discretization of the domain, quantization is discretization of the values themselves.\n",
      "3. They are the same.\n",
      "4. No correct answer is present.\n",
      "5. This question is outside my domain of knowledge.\n"
     ]
    },
    {
     "name": "stderr",
     "output_type": "stream",
     "text": [
      "2024-04-23 09:33:00,298 - chatbot_domain - INFO - Question 18/23\n"
     ]
    },
    {
     "name": "stdout",
     "output_type": "stream",
     "text": [
      "Question: Which filter suppresses salt-noise at the cost of increased pepper-noise\n",
      "1. Median filter\n",
      "2. Max filter.\n",
      "3. Min filter.\n",
      "4. No correct answer is present.\n",
      "5. This question is outside my domain of knowledge.\n",
      "Question: Which filter suppresses salt-noise at the cost of increased pepper-noise\n",
      "1. Median filter\n",
      "2. Max filter.\n",
      "3. Min filter.\n",
      "4. No correct answer is present.\n",
      "5. This question is outside my domain of knowledge.\n"
     ]
    },
    {
     "name": "stderr",
     "output_type": "stream",
     "text": [
      "2024-04-23 09:33:08,098 - chatbot_domain - INFO - Question 19/23\n"
     ]
    },
    {
     "name": "stdout",
     "output_type": "stream",
     "text": [
      "Question: Why do we need a separate formula for the derivative in discrete space?\n",
      "1. It is because we can't get arbitrarily close since we are stuck with integer values.\n",
      "2. The derivative in discrete space does not represent the rate of change anymore\n",
      "3. They are two completely different concepts\n",
      "4. No correct answer is present.\n",
      "5. This question is outside my domain of knowledge.\n"
     ]
    },
    {
     "name": "stderr",
     "output_type": "stream",
     "text": [
      "2024-04-23 09:33:14,487 - chatbot_domain - INFO - Question 20/23\n"
     ]
    },
    {
     "name": "stdout",
     "output_type": "stream",
     "text": [
      "Question: What is cheese?\n",
      "1. A food product\n",
      "2. A vegetable.\n",
      "3. An image processing phenomenon.\n",
      "4. No correct answer is present.\n",
      "5. This question is outside my domain of knowledge.\n"
     ]
    },
    {
     "name": "stderr",
     "output_type": "stream",
     "text": [
      "2024-04-23 09:33:17,409 - chatbot_domain - INFO - Question 21/23\n"
     ]
    },
    {
     "name": "stdout",
     "output_type": "stream",
     "text": [
      "Question: What is the meaning of life?\n",
      "1. To be able to cease existing\n",
      "2. It is futile.\n",
      "3. Being happy.\n",
      "4. No correct answer is present.\n",
      "5. This question is outside my domain of knowledge.\n"
     ]
    },
    {
     "name": "stderr",
     "output_type": "stream",
     "text": [
      "2024-04-23 09:33:20,271 - chatbot_domain - INFO - Question 22/23\n"
     ]
    },
    {
     "name": "stdout",
     "output_type": "stream",
     "text": [
      "Question: Which conversion factor K_m is used when we are using our photopic vision?\n",
      "1. 1699 lm/W.\n",
      "2. 683 W/lm.\n",
      "3. 683 lm/W.\n",
      "4. No correct answer is present.\n",
      "5. This question is outside my domain of knowledge.\n"
     ]
    },
    {
     "name": "stderr",
     "output_type": "stream",
     "text": [
      "2024-04-23 09:33:24,100 - chatbot_domain - INFO - Question 23/23\n"
     ]
    },
    {
     "name": "stdout",
     "output_type": "stream",
     "text": [
      "Question: Which of the following is not a color model?\n",
      "1. HSI.\n",
      "2. RGB.\n",
      "3. HVS.\n",
      "4. No correct answer is present.\n",
      "5. This question is outside my domain of knowledge.\n",
      "Question: Which of the following is not a color model?\n",
      "1. HSI.\n",
      "2. RGB.\n",
      "3. HVS.\n",
      "4. No correct answer is present.\n",
      "5. This question is outside my domain of knowledge.\n",
      "\n",
      "    ================================================================================\n",
      "    # TEST RESULTS\n",
      "    overal Score: 17/23\n",
      "    ## breakdown:\n",
      "        literal:                10/13\n",
      "        deduction:               2/4\n",
      "        wrong answers:           2/3\n",
      "        outside domain:          3/3        \n",
      "    ================================================================================\n",
      "    \n"
     ]
    }
   ],
   "source": [
    "from chatbot_domain.benchmark import JsonQuestionParser, Benchmarker, AlwaysATestSubject, NLPTestSubject, HumanTestSubject\n",
    "from chatbot_domain.chatbot import ChatBotModifier, OpenAIChatBot, DIPDomainGuard, ChatBotBuilder, RAGBuilder\n",
    "from chatbot_domain.rag import VectorRetriever, FacebookDPR\n",
    "from chatbot_domain.transformers import ModelBuilder\n",
    "from chatbot_domain.data import loadDataSetFromDisk\n",
    "from chatbot_domain import logger\n",
    "\n",
    "logger.setLevel(\"INFO\")\n",
    "\n",
    "# chatbot = ChatBotBuilder.openAI('gpt-4-turbo').benchmarkGuard().domainGuard(DIPDomainGuard).rag(\n",
    "#     RAGBuilder.fromDatasetDisk('ragData.set').vectorRetriever(FacebookDPR()), contextLength = 1024 * 8\n",
    "#     ).build()\n",
    "\n",
    "chatbot = ChatBotBuilder.model(\n",
    "    ModelBuilder().modelName('vincentverbergt/Mistral7B-DIP').deviceMap(\"auto\").shouldQuantize(True).build(adapted=True)\n",
    "    ).benchmarkGuard().domainGuard(DIPDomainGuard).build()\n",
    "\n",
    "# chatbot = ChatBotBuilder.model(\n",
    "#     ModelBuilder().modelName('vincentverbergt/Mistral7B-DIP').deviceMap(\"auto\").shouldQuantize(True).build(adapted=True)\n",
    "#     ).benchmarkGuard().domainGuard(DIPDomainGuard).rag(\n",
    "#         RAGBuilder.fromDataset('ragData.set').vectorRetriever(FacebookDPR()), contextLength= 2048\n",
    "#     ).build()\n",
    "parser = JsonQuestionParser('questions.json')\n",
    "questions = parser.parse()\n",
    "\n",
    "name = input(\"name: \")\n",
    "# benchmarker = Benchmarker(HumanTestSubject(name), questions)\n",
    "benchmarker = Benchmarker(NLPTestSubject(chatbot), questions)\n",
    "testResult = benchmarker.evaluate()\n",
    "print(testResult)\n",
    "testResult.save('./scores')"
   ]
  },
  {
   "cell_type": "code",
   "execution_count": null,
   "metadata": {},
   "outputs": [],
   "source": [
    " "
   ]
  }
 ],
 "metadata": {
  "kernelspec": {
   "display_name": "Python 3",
   "language": "python",
   "name": "python3"
  },
  "language_info": {
   "codemirror_mode": {
    "name": "ipython",
    "version": 3
   },
   "file_extension": ".py",
   "mimetype": "text/x-python",
   "name": "python",
   "nbconvert_exporter": "python",
   "pygments_lexer": "ipython3",
   "version": "3.11.4"
  }
 },
 "nbformat": 4,
 "nbformat_minor": 2
}
