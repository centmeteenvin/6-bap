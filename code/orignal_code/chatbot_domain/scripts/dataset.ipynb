{
 "cells": [
  {
   "cell_type": "code",
   "execution_count": 1,
   "metadata": {},
   "outputs": [
    {
     "name": "stdout",
     "output_type": "stream",
     "text": [
      "c:\\Users\\vince\\Documents\\school\\Unief-6\\6-bap\\chatbot_domain\n",
      "c:\\Users\\vince\\Documents\\school\\Unief-6\\6-bap\n"
     ]
    },
    {
     "data": {
      "text/plain": [
       "'c:\\\\Users\\\\vince\\\\Documents\\\\school\\\\Unief-6\\\\6-bap'"
      ]
     },
     "execution_count": 1,
     "metadata": {},
     "output_type": "execute_result"
    }
   ],
   "source": [
    "%cd ../\n",
    "%pwd\n",
    "# %pip install datasets==2.18.0 numpy==1.25.2 openai==1.17.0 pypdf==4.2.0 python-dotenv==1.0.1 torch==2.2.1 huggingface-hub transformers accelerate\n",
    "%cd ../\n",
    "%pwd"
   ]
  },
  {
   "cell_type": "code",
   "execution_count": 2,
   "metadata": {},
   "outputs": [
    {
     "name": "stderr",
     "output_type": "stream",
     "text": [
      "2024-05-03 09:22:56,764 - chatbot_domain - INFO - Reading pdf-file\n",
      "2024-05-03 09:23:10,602 - chatbot_domain - INFO - Finished reading pdf.\n",
      "Extracted 287 paragraphs and 14374 sentences\n",
      "2024-05-03 09:23:10,602 - chatbot_domain - INFO - creating dataset\n"
     ]
    },
    {
     "data": {
      "application/vnd.jupyter.widget-view+json": {
       "model_id": "802a388e49df46b7a5bd363d7911d5c1",
       "version_major": 2,
       "version_minor": 0
      },
      "text/plain": [
       "Saving the dataset (0/1 shards):   0%|          | 0/14374 [00:00<?, ? examples/s]"
      ]
     },
     "metadata": {},
     "output_type": "display_data"
    }
   ],
   "source": [
    "from chatbot_domain.data import parseData, createDataSet, saveDataset, loadDataSetFromDisk\n",
    "from chatbot_domain.settings import Settings\n",
    "\n",
    "parsedData = parseData('DIP-TB.pdf')\n",
    "dataset = createDataSet(parsedData, 0.0)['train']\n",
    "saveDataset(dataset, 'ragDataPage.set')\n",
    "# from chatbot_domain.secrets import HUGGINGFACE_ACCESS\n",
    "# dataset.push_to_hub(\"vincentverbergt/DIP-sentences\", token=HUGGINGFACE_ACCESS, private=True)\n"
   ]
  },
  {
   "cell_type": "code",
   "execution_count": null,
   "metadata": {},
   "outputs": [],
   "source": []
  }
 ],
 "metadata": {
  "kernelspec": {
   "display_name": "Python 3",
   "language": "python",
   "name": "python3"
  },
  "language_info": {
   "codemirror_mode": {
    "name": "ipython",
    "version": 3
   },
   "file_extension": ".py",
   "mimetype": "text/x-python",
   "name": "python",
   "nbconvert_exporter": "python",
   "pygments_lexer": "ipython3",
   "version": "3.11.4"
  }
 },
 "nbformat": 4,
 "nbformat_minor": 4
}
