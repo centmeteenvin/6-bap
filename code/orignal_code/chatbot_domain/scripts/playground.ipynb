{
 "cells": [
  {
   "cell_type": "code",
   "execution_count": 3,
   "metadata": {},
   "outputs": [
    {
     "name": "stdout",
     "output_type": "stream",
     "text": [
      "c:\\Users\\vince\\Documents\\school\n"
     ]
    },
    {
     "name": "stderr",
     "output_type": "stream",
     "text": [
      "c:\\Python311\\Lib\\site-packages\\IPython\\core\\magics\\osm.py:417: UserWarning: This is now an optional IPython functionality, setting dhist requires you to install the `pickleshare` library.\n",
      "  self.shell.db['dhist'] = compress_dhist(dhist)[-100:]\n"
     ]
    }
   ],
   "source": [
    "%cd ../../"
   ]
  },
  {
   "cell_type": "code",
   "execution_count": 6,
   "metadata": {},
   "outputs": [
    {
     "name": "stdout",
     "output_type": "stream",
     "text": [
      "My name is Claude. It's nice to meet you!\n",
      "As I mentioned, my name is Claude. It's nice to meet you!\n",
      "Your previous question was \"Hello, What is your name?\". Then you asked the same question again: \"Hello what is your name?\".\n"
     ]
    }
   ],
   "source": [
    "import anthropic\n",
    "from chatbot_domain.secrets import ANTHROPIC_API\n",
    "from transformers import Conversation\n",
    "\n",
    "client = anthropic.Anthropic(\n",
    "    api_key = ANTHROPIC_API\n",
    ")\n",
    "\n",
    "conversation = Conversation()\n",
    "userInput = input(\"> \")\n",
    "while userInput != 'exit':\n",
    "    conversation.add_user_input(userInput)\n",
    "    answer = client.messages.create(\n",
    "        model = 'claude-3-opus-20240229',\n",
    "        max_tokens = 256,\n",
    "        messages = conversation.messages\n",
    "    ).content[0].text\n",
    "    print(answer)\n",
    "    conversation.append_response(answer)\n",
    "    userInput = input(\"> \")\n"
   ]
  }
 ],
 "metadata": {
  "kernelspec": {
   "display_name": "Python 3",
   "language": "python",
   "name": "python3"
  },
  "language_info": {
   "codemirror_mode": {
    "name": "ipython",
    "version": 3
   },
   "file_extension": ".py",
   "mimetype": "text/x-python",
   "name": "python",
   "nbconvert_exporter": "python",
   "pygments_lexer": "ipython3",
   "version": "3.11.4"
  }
 },
 "nbformat": 4,
 "nbformat_minor": 2
}
