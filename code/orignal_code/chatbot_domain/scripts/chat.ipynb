{
 "cells": [
  {
   "cell_type": "code",
   "execution_count": 1,
   "id": "bdc34acb-bcf0-4c2f-929b-651a109d7923",
   "metadata": {},
   "outputs": [
    {
     "name": "stdout",
     "output_type": "stream",
     "text": [
      "c:\\Users\\vince\\Documents\\school\\Unief-6\\6-bap\n"
     ]
    },
    {
     "data": {
      "text/plain": [
       "'c:\\\\Users\\\\vince\\\\Documents\\\\school\\\\Unief-6\\\\6-bap'"
      ]
     },
     "execution_count": 1,
     "metadata": {},
     "output_type": "execute_result"
    }
   ],
   "source": [
    "%cd ../../\n",
    "%pwd"
   ]
  },
  {
   "cell_type": "code",
   "execution_count": 2,
   "id": "9b329345-735b-4b2f-8009-325317ea28ae",
   "metadata": {},
   "outputs": [
    {
     "name": "stdout",
     "output_type": "stream",
     "text": [
      "c:\\Users\\vince\\Documents\\school\\Unief-6\\6-bap\n"
     ]
    }
   ],
   "source": [
    "from chatbot_domain.benchmark import *\n",
    "from chatbot_domain.chatbot import *\n",
    "from chatbot_domain.rag import *\n",
    "from chatbot_domain.transformer import ModelBuilder\n",
    "# from chatbot_domain.rag import VectorRetriever, FacebookDPR\n",
    "from chatbot_domain import logger\n",
    "from chatbot_domain.data import loadDataSetFromDisk\n",
    "\n",
    "from os import getcwd\n",
    "print(getcwd())\n",
    "logger.setLevel('INFO')\n",
    "\n",
    "# Run 1 Claude-3 Haiku RAG2k\n",
    "chatbot = ChatBotBuilder.anthropic('claude-3-haiku-20240307').domainGuard(DIPDomainGuard).rag(\n",
    "    RAGBuilder.fromDatasetDisk('./ragDataPage.set').vectorRetriever(FacebookDPR()), 2048\n",
    ").build()\n",
    "\n",
    "# Run 2 GPT-4-Turbo RAG2k\n",
    "# chatbot = ChatBotBuilder.openAI('gpt-4-turbo-2024-04-09').domainGuard(DIPDomainGuard).rag(\n",
    "#     RAGBuilder.fromDatasetDisk('./ragDataPage.set').vectorRetriever(FacebookDPR()), 2048\n",
    "# ).build()\n",
    "\n",
    "# Run 3 Mixtral-RAG2k\n",
    "# chatbot = ChatBotBuilder.model(\n",
    "#     ModelBuilder().modelName('mistralai/Mixtral-8x7B-Instruct-v0.1').deviceMap(\"auto\").shouldQuantize(True).build(adapted=False)\n",
    "# ).domainGuard(DIPDomainGuard).rag(\n",
    "#     RAGBuilder.fromDatasetDisk('./ragDataPage.set').vectorRetriever(FacebookDPR()), 2048\n",
    "# ).build()\n",
    "\n",
    "# Run 4 Mistral Finetuned\n",
    "# chatbot = ChatBotBuilder.model(\n",
    "#     ModelBuilder().modelName('vincentverbergt/Mistral7B-DIP').deviceMap(\"auto\").shouldQuantize(True).build(adapted=True)\n",
    "#     ).benchmarkGuard().domainGuard(DIPDomainGuard).build()"
   ]
  },
  {
   "cell_type": "code",
   "execution_count": 3,
   "id": "ba00a44c-7b84-4067-8119-2be874bd2384",
   "metadata": {},
   "outputs": [
    {
     "name": "stdout",
     "output_type": "stream",
     "text": [
      "\n",
      "--------------------------------------------------------------------------------\n",
      "claude-3-opus-20240229 : Hello! Greetings from the digital world! It's great to hear from someone in Belgium. How are you doing today?\n",
      "\n",
      "Belgium is a beautiful country known for its medieval cities, Renaissance architecture, delicious chocolate, waffles, and beer. It's also famous for being the headquarters of the European Union and NATO.\n",
      "\n",
      "I'd be happy to chat more about Belgium or any other topics you're interested in. Feel free to ask me anything!\n",
      "================================================================================\n",
      "    \n"
     ]
    }
   ],
   "source": [
    "questions = [\n",
    "    'Is the image operation ’closing’ an associative operation? Provide the necessary arguments to support your answer.',\n",
    "    'An image has been corrupted by pepper noise that is maximally 2x2 pixels in size. Propose me a filter that can remove this noise. What will be an unavoidable side-effect of this filter?',\n",
    "    'Is the HSI color model device independent or not? Provide the necessary arguments to support your answer. ',\n",
    "    'Propose me at least two good filters to remove single-pixel salt-and-peper noise. ',\n",
    "    'Do colors outside of the color gamut exist, or not? If so, can we see them? If not, explain why they don’t exist. Answer this question for the human color gamut and the gamut of a device. '\n",
    "]\n",
    "\n",
    "for i,question in enumerate(questions):\n",
    "    print(f\"{chatbot.getName}, QUESTION {i+1}:\")\n",
    "    print(chatbot.askQuestion(question))\n",
    "    input('Continue?')"
   ]
  },
  {
   "cell_type": "code",
   "execution_count": 3,
   "id": "d3604d24",
   "metadata": {},
   "outputs": [
    {
     "name": "stderr",
     "output_type": "stream",
     "text": [
      "2024-04-30 16:40:29,013 - chatbot_domain - INFO - Question 1/4\n",
      "2024-04-30 16:40:35,981 - chatbot_domain - INFO - Question 2/4\n",
      "2024-04-30 16:40:42,643 - chatbot_domain - INFO - Question 3/4\n",
      "2024-04-30 16:40:49,101 - chatbot_domain - INFO - Question 4/4\n"
     ]
    },
    {
     "name": "stdout",
     "output_type": "stream",
     "text": [
      "\n",
      "    ================================================================================\n",
      "    # TEST RESULTS\n",
      "    overal Score: 2/4\n",
      "    Time to completion: 0:00:06.488144\n",
      "    ## breakdown:\n",
      "        literal:                 2/4\n",
      "        deduction:               0/0\n",
      "        wrong answers:           0/0\n",
      "        outside domain:          0/0        \n",
      "    ================================================================================\n",
      "    \n"
     ]
    },
    {
     "ename": "",
     "evalue": "",
     "output_type": "error",
     "traceback": [
      "\u001b[1;31mThe Kernel crashed while executing code in the current cell or a previous cell. \n",
      "\u001b[1;31mPlease review the code in the cell(s) to identify a possible cause of the failure. \n",
      "\u001b[1;31mClick <a href='https://aka.ms/vscodeJupyterKernelCrash'>here</a> for more info. \n",
      "\u001b[1;31mView Jupyter <a href='command:jupyter.viewOutput'>log</a> for further details."
     ]
    }
   ],
   "source": [
    "parser = JsonQuestionParser('questions.json')\n",
    "question = parser.parse()[0:4]\n",
    "benchmarker = Benchmarker(NLPTestSubject(chatbot), question)\n",
    "logger.setLevel('INFO')\n",
    "print(benchmarker.evaluate(5))"
   ]
  }
 ],
 "metadata": {
  "kernelspec": {
   "display_name": "Python 3",
   "language": "python",
   "name": "python3"
  },
  "language_info": {
   "codemirror_mode": {
    "name": "ipython",
    "version": 3
   },
   "file_extension": ".py",
   "mimetype": "text/x-python",
   "name": "python",
   "nbconvert_exporter": "python",
   "pygments_lexer": "ipython3",
   "version": "3.11.4"
  }
 },
 "nbformat": 4,
 "nbformat_minor": 5
}
